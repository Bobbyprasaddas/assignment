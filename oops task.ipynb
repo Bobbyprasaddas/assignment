{
 "cells": [
  {
   "cell_type": "markdown",
   "id": "ea20d91c-6d44-46bf-8602-5bde17cabfeb",
   "metadata": {},
   "source": [
    "Q1, Create a vehicle class with an init method having instance variables as name_of_vehicle, max_speed\n",
    "and average_of_vehicle."
   ]
  },
  {
   "cell_type": "code",
   "execution_count": 1,
   "id": "6d262605-6da8-42da-907a-cae1c33561e8",
   "metadata": {},
   "outputs": [],
   "source": [
    "class Vehicle:\n",
    "    def __init__(self, name_of_vehicle, max_speed, average_of_vehicle):\n",
    "        self.name_of_vehicle = name_of_vehicle\n",
    "        self.max_speed = max_speed\n",
    "        self.average_of_vehicle = average_of_vehicle\n",
    "        \n"
   ]
  },
  {
   "cell_type": "code",
   "execution_count": 3,
   "id": "711aac48-17b6-4991-82bb-1d77742e69a3",
   "metadata": {},
   "outputs": [
    {
     "name": "stdout",
     "output_type": "stream",
     "text": [
      "Aston Martin\n",
      "250\n",
      "15\n"
     ]
    }
   ],
   "source": [
    "car = Vehicle(\"Aston Martin\", 250, 15)\n",
    "print(car.name_of_vehicle)       \n",
    "print(car.max_speed)              \n",
    "print(car.average_of_vehicle) \n"
   ]
  },
  {
   "cell_type": "code",
   "execution_count": null,
   "id": "0a905e0a-421e-47f4-8e63-47eb5b4215d7",
   "metadata": {},
   "outputs": [],
   "source": []
  },
  {
   "cell_type": "markdown",
   "id": "1394b8b7-3fe9-421d-a6b2-715b3da6d6b9",
   "metadata": {},
   "source": [
    "Q2. Create a child class car from the vehicle class created in Que 1, which will inherit the vehicle class.\n",
    "Create a method named seating_capacity which takes capacity as an argument and returns the name of\n",
    "the vehicle and its seating capacity."
   ]
  },
  {
   "cell_type": "code",
   "execution_count": 4,
   "id": "6c272e35-f416-4b22-ac35-48f8fb8f9cfc",
   "metadata": {},
   "outputs": [],
   "source": [
    "class Car(Vehicle):\n",
    "    def seating_capacity(self, capacity):\n",
    "        return f\"{self.name_of_vehicle} has a seating capacity of {capacity} people.\"\n"
   ]
  },
  {
   "cell_type": "code",
   "execution_count": 5,
   "id": "394b5eaf-10d6-4bad-af10-a73d763a6050",
   "metadata": {},
   "outputs": [
    {
     "name": "stdout",
     "output_type": "stream",
     "text": [
      "Aston Martin has a seating capacity of 2 people.\n"
     ]
    }
   ],
   "source": [
    "car = Car(\"Aston Martin\", 250, 15)\n",
    "print(car.seating_capacity(2))\n"
   ]
  },
  {
   "cell_type": "code",
   "execution_count": null,
   "id": "6454db89-ee5b-44c1-9eae-663040145d6c",
   "metadata": {},
   "outputs": [],
   "source": []
  },
  {
   "cell_type": "markdown",
   "id": "d49310c3-14f1-41fd-815e-a7153be934a7",
   "metadata": {},
   "source": [
    "Q3. What is multiple inheritance? Write a python code to demonstrate multiple inheritance."
   ]
  },
  {
   "cell_type": "code",
   "execution_count": 8,
   "id": "1478bad9-9dd9-435b-8f97-6251aa48a0f6",
   "metadata": {},
   "outputs": [],
   "source": [
    "# 'Multiple inheritance is a feature of some object-oriented computer programming languages\n",
    "# in which an object or class can inherit features from more than one parent object or parent class.'"
   ]
  },
  {
   "cell_type": "code",
   "execution_count": 10,
   "id": "5950b378-d03d-4a84-aaae-9a83b0314f67",
   "metadata": {},
   "outputs": [],
   "source": [
    "class LiverpoolFC:\n",
    "    def __init__(self, name):\n",
    "        self.name = name\n",
    "\n",
    "    def celebrate(self):\n",
    "        print(f\"{self.name} is celebrating!\")\n",
    "\n",
    "class Player:\n",
    "    def __init__(self, player_name):\n",
    "        self.player_name = player_name\n",
    "\n",
    "    def score_goal(self):\n",
    "        print(f\"{self.player_name} scored a goal!\")\n",
    "\n",
    "class LiverpoolPlayer(LiverpoolFC, Player):\n",
    "    def __init__(self, name, player_name):\n",
    "        LiverpoolFC.__init__(self, name)\n",
    "        Player.__init__(self, player_name)\n",
    "\n",
    "\n"
   ]
  },
  {
   "cell_type": "code",
   "execution_count": 13,
   "id": "f51e5cab-f11e-4165-af19-5124d1c6ddb5",
   "metadata": {},
   "outputs": [],
   "source": [
    "liverpool_player = LiverpoolPlayer(\"Liverpool FC\", \"Darwin Nunez\")"
   ]
  },
  {
   "cell_type": "code",
   "execution_count": 15,
   "id": "e46d0aa8-0cb1-4b33-a08d-1d30b6b5a034",
   "metadata": {},
   "outputs": [
    {
     "name": "stdout",
     "output_type": "stream",
     "text": [
      "Darwin Nunez scored a goal!\n"
     ]
    }
   ],
   "source": [
    "liverpool_player.score_goal()"
   ]
  },
  {
   "cell_type": "code",
   "execution_count": 16,
   "id": "c73eec4d-3e96-4801-a3e9-26ddf14216a4",
   "metadata": {},
   "outputs": [
    {
     "name": "stdout",
     "output_type": "stream",
     "text": [
      "Liverpool FC is celebrating!\n"
     ]
    }
   ],
   "source": [
    "liverpool_player.celebrate()"
   ]
  },
  {
   "cell_type": "code",
   "execution_count": null,
   "id": "8bb4cfe3-d5a1-4657-aa95-757c6bd2c390",
   "metadata": {},
   "outputs": [],
   "source": []
  },
  {
   "cell_type": "markdown",
   "id": "ac7fc345-ec4a-48a8-9468-e6a57afaf5df",
   "metadata": {},
   "source": [
    "Q4. What are getter and setter in python? Create a class and create a getter and a setter method in this\n",
    "class."
   ]
  },
  {
   "cell_type": "code",
   "execution_count": 17,
   "id": "e00dfda4-3896-41cd-bddc-b256acf17a90",
   "metadata": {},
   "outputs": [],
   "source": [
    "# In Python, getter and setter methods are used to access and modify the values of private or protected attributes of a class. \n",
    "# They provide a way to encapsulate attribute access and enforce controlled access to the class's data."
   ]
  },
  {
   "cell_type": "code",
   "execution_count": 18,
   "id": "d252c2d0-0d0b-4145-a256-8c1886854da6",
   "metadata": {},
   "outputs": [],
   "source": [
    "class Person:\n",
    "    def __init__(self):\n",
    "        self._name = None\n",
    "\n",
    "    def get_name(self):\n",
    "        return self._name\n",
    "\n",
    "    def set_name(self, name):\n",
    "        self._name = name\n"
   ]
  },
  {
   "cell_type": "code",
   "execution_count": 19,
   "id": "58093c4b-6447-47d2-9772-6c20e25069f5",
   "metadata": {},
   "outputs": [
    {
     "name": "stdout",
     "output_type": "stream",
     "text": [
      "Bobby Firmino\n"
     ]
    }
   ],
   "source": [
    "person = Person()\n",
    "person.set_name(\"Bobby Firmino\")\n",
    "print(person.get_name())\n"
   ]
  },
  {
   "cell_type": "code",
   "execution_count": null,
   "id": "73ed23f1-7d96-4691-b5b3-d4d3ec8a0cf1",
   "metadata": {},
   "outputs": [],
   "source": []
  },
  {
   "cell_type": "markdown",
   "id": "7aa29df5-a602-457b-af84-12ab1c05da55",
   "metadata": {},
   "source": [
    "Q5.What is method overriding in python? Write a python code to demonstrate method overriding."
   ]
  },
  {
   "cell_type": "code",
   "execution_count": 20,
   "id": "afc5df8a-e121-460f-97fe-439a8172c860",
   "metadata": {},
   "outputs": [],
   "source": [
    "# Method overriding is a concept in object-oriented programming where a subclass provides its own implementation of a method\n",
    "# that is already defined in its superclass. "
   ]
  },
  {
   "cell_type": "code",
   "execution_count": 27,
   "id": "4be5a46e-76a8-4761-b102-519cbf9588c4",
   "metadata": {},
   "outputs": [],
   "source": [
    "class Continent:\n",
    "    def show_info(self):\n",
    "        print(\"This is Africa.\")\n",
    "\n",
    "\n",
    "class Africa(Continent):\n",
    "    def show_info(self):\n",
    "        print(\"This is part of Africa.\")\n"
   ]
  },
  {
   "cell_type": "code",
   "execution_count": 28,
   "id": "8508c3a8-a033-483f-8227-eab0d1cc234c",
   "metadata": {},
   "outputs": [],
   "source": [
    "Siera_Leone = Africa()"
   ]
  },
  {
   "cell_type": "code",
   "execution_count": 29,
   "id": "8714dc13-30c7-4216-b825-300191a88909",
   "metadata": {},
   "outputs": [
    {
     "name": "stdout",
     "output_type": "stream",
     "text": [
      "This is part of Africa.\n"
     ]
    }
   ],
   "source": [
    "Siera_Leone.show_info()"
   ]
  },
  {
   "cell_type": "code",
   "execution_count": null,
   "id": "885f1042-d838-45f8-9380-7e591d86bd40",
   "metadata": {},
   "outputs": [],
   "source": []
  }
 ],
 "metadata": {
  "kernelspec": {
   "display_name": "Python 3 (ipykernel)",
   "language": "python",
   "name": "python3"
  },
  "language_info": {
   "codemirror_mode": {
    "name": "ipython",
    "version": 3
   },
   "file_extension": ".py",
   "mimetype": "text/x-python",
   "name": "python",
   "nbconvert_exporter": "python",
   "pygments_lexer": "ipython3",
   "version": "3.10.8"
  }
 },
 "nbformat": 4,
 "nbformat_minor": 5
}
