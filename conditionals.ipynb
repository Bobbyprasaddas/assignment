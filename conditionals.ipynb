{
 "cells": [
  {
   "cell_type": "code",
   "execution_count": null,
   "id": "650dada5-ae94-4a52-9d7c-db79d9a79f47",
   "metadata": {},
   "outputs": [],
   "source": []
  },
  {
   "cell_type": "code",
   "execution_count": 1,
   "id": "e8b29ccb-61f4-48bb-a0d3-81cf251bd18b",
   "metadata": {},
   "outputs": [
    {
     "name": "stdin",
     "output_type": "stream",
     "text": [
      "Enter your marks 56\n"
     ]
    },
    {
     "name": "stdout",
     "output_type": "stream",
     "text": [
      "Well done, You are part of c group\n"
     ]
    }
   ],
   "source": [
    "marks = int(input(\"Enter your marks\"))\n",
    "if marks >= 80:\n",
    "    print(\"Bravos, You are part of A1 batch \")\n",
    "elif marks >= 60 and marks < 80:\n",
    "    print(\"Congrats, You are part of b group\")\n",
    "elif marks >= 40 and marks < 60:\n",
    "    print(\"Well done, You are part of c group\")\n",
    "else:\n",
    "    print(\" Sorry , you are not selected , try again harde\")\n",
    "    \n",
    "    "
   ]
  },
  {
   "cell_type": "code",
   "execution_count": 6,
   "id": "3e12595a-7668-44f4-83e6-8d9cd8d97801",
   "metadata": {},
   "outputs": [
    {
     "data": {
      "text/plain": [
       "4556"
      ]
     },
     "execution_count": 6,
     "metadata": {},
     "output_type": "execute_result"
    }
   ],
   "source": [
    "4556"
   ]
  },
  {
   "cell_type": "code",
   "execution_count": 2,
   "id": "c475961f-5df3-419d-a9c1-3235d2b6759b",
   "metadata": {},
   "outputs": [],
   "source": [
    "l = [ 1, 2, 3, 6, 77, 8, 8, 9]"
   ]
  },
  {
   "cell_type": "code",
   "execution_count": 3,
   "id": "afd057af-c12a-4f69-83f1-5ff20d2d1a35",
   "metadata": {},
   "outputs": [
    {
     "data": {
      "text/plain": [
       "[1, 2, 3, 6, 77, 8, 8, 9]"
      ]
     },
     "execution_count": 3,
     "metadata": {},
     "output_type": "execute_result"
    }
   ],
   "source": [
    "l"
   ]
  },
  {
   "cell_type": "code",
   "execution_count": 17,
   "id": "e2e4d9e5-2acf-4df4-a761-ff565b922731",
   "metadata": {},
   "outputs": [
    {
     "name": "stdout",
     "output_type": "stream",
     "text": [
      "6\n",
      "7\n",
      "8\n",
      "11\n",
      "82\n",
      "13\n",
      "13\n",
      "14\n"
     ]
    },
    {
     "data": {
      "text/plain": [
       "[6, 7, 8, 11, 82, 13, 13, 14]"
      ]
     },
     "execution_count": 17,
     "metadata": {},
     "output_type": "execute_result"
    }
   ],
   "source": [
    "l1 = []\n",
    "for i in l:\n",
    "    print(i+5)\n",
    "    l1.append(i+5)\n",
    "l1"
   ]
  },
  {
   "cell_type": "code",
   "execution_count": 18,
   "id": "aac08b12-8bfd-4ce1-9bf1-6a9fb6b30376",
   "metadata": {},
   "outputs": [],
   "source": [
    "l = [ \"Pintu\", \"Prasad\", \"Ninjas\", \"Geek\"]"
   ]
  },
  {
   "cell_type": "code",
   "execution_count": 19,
   "id": "3bb8ea52-169a-4543-abf0-f63c64e3472f",
   "metadata": {},
   "outputs": [
    {
     "data": {
      "text/plain": [
       "['Pintu', 'Prasad', 'Ninjas', 'Geek']"
      ]
     },
     "execution_count": 19,
     "metadata": {},
     "output_type": "execute_result"
    }
   ],
   "source": [
    "l"
   ]
  },
  {
   "cell_type": "code",
   "execution_count": 21,
   "id": "b6699cde-1c9c-4973-ad91-89ba85ed9618",
   "metadata": {},
   "outputs": [
    {
     "name": "stdout",
     "output_type": "stream",
     "text": [
      "Pintu\n",
      "Prasad\n",
      "Ninjas\n",
      "Geek\n"
     ]
    }
   ],
   "source": [
    "for i in l:\n",
    "    print(i)"
   ]
  },
  {
   "cell_type": "code",
   "execution_count": null,
   "id": "378053ba-51c5-44cc-aa6c-0863a4a7f607",
   "metadata": {},
   "outputs": [],
   "source": []
  },
  {
   "cell_type": "code",
   "execution_count": 22,
   "id": "28e17f75-9435-4ef3-9b21-e7cea1213f12",
   "metadata": {},
   "outputs": [
    {
     "name": "stdout",
     "output_type": "stream",
     "text": [
      "['Pintu', 'Prasad', 'Ninjas', 'Geek']\n",
      "['Pintu', 'Prasad', 'Ninjas', 'Geek']\n",
      "['Pintu', 'Prasad', 'Ninjas', 'Geek']\n",
      "['Pintu', 'Prasad', 'Ninjas', 'Geek']\n"
     ]
    }
   ],
   "source": [
    "for i in l:\n",
    "    print(l)"
   ]
  },
  {
   "cell_type": "code",
   "execution_count": null,
   "id": "1cf4116b-0ecd-4afc-9113-6922bfab8325",
   "metadata": {},
   "outputs": [],
   "source": []
  },
  {
   "cell_type": "code",
   "execution_count": 27,
   "id": "2b11a04d-dc25-47e9-89c1-c7e6f06d5533",
   "metadata": {},
   "outputs": [
    {
     "name": "stdout",
     "output_type": "stream",
     "text": [
      "Pintu\n",
      "Prasad\n",
      "Ninjas\n",
      "Geek\n"
     ]
    },
    {
     "data": {
      "text/plain": [
       "['PINTU', 'PRASAD', 'NINJAS', 'GEEK']"
      ]
     },
     "execution_count": 27,
     "metadata": {},
     "output_type": "execute_result"
    }
   ],
   "source": [
    "l1 = []\n",
    "for i in l:\n",
    "    print(i)\n",
    "    l1.append(i.upper())\n",
    "l1    "
   ]
  },
  {
   "cell_type": "code",
   "execution_count": 28,
   "id": "a628d146-4a20-4f53-9ad3-a83bf69dc500",
   "metadata": {},
   "outputs": [
    {
     "data": {
      "text/plain": [
       "['PINTU', 'PRASAD', 'NINJAS', 'GEEK']"
      ]
     },
     "execution_count": 28,
     "metadata": {},
     "output_type": "execute_result"
    }
   ],
   "source": [
    "l1"
   ]
  },
  {
   "cell_type": "code",
   "execution_count": 32,
   "id": "e124ea30-0edb-40f8-9769-4284ba1900f3",
   "metadata": {},
   "outputs": [],
   "source": [
    "l = [ 1,2, 4, 5, \"Pintu\", \"Das\", 45.36,365, \"ABC\"]"
   ]
  },
  {
   "cell_type": "code",
   "execution_count": 33,
   "id": "758f7a8f-873c-4b85-85c0-13c63d39e40d",
   "metadata": {},
   "outputs": [
    {
     "data": {
      "text/plain": [
       "[1, 2, 4, 5, 'Pintu', 'Das', 45.36, 365, 'ABC']"
      ]
     },
     "execution_count": 33,
     "metadata": {},
     "output_type": "execute_result"
    }
   ],
   "source": [
    "l"
   ]
  },
  {
   "cell_type": "code",
   "execution_count": 34,
   "id": "d844f739-3d16-4e7e-b2a2-d25c4aeffe0d",
   "metadata": {},
   "outputs": [],
   "source": [
    "l1_num = []\n",
    "l2_str = []\n",
    "for i in l:\n",
    "    if type(i) == int or type(i) == float:\n",
    "        l1_num.append(i)\n",
    "    else:\n",
    "        l2_str.append(i)"
   ]
  },
  {
   "cell_type": "code",
   "execution_count": 35,
   "id": "ed44bda6-a58e-4b1f-bd9a-9b8c2a8aeb2e",
   "metadata": {},
   "outputs": [
    {
     "data": {
      "text/plain": [
       "[1, 2, 4, 5, 45.36, 365]"
      ]
     },
     "execution_count": 35,
     "metadata": {},
     "output_type": "execute_result"
    }
   ],
   "source": [
    "l1_num"
   ]
  },
  {
   "cell_type": "code",
   "execution_count": 36,
   "id": "d31e5e4f-e67a-47a2-8d6a-dbcf42b6500b",
   "metadata": {},
   "outputs": [
    {
     "data": {
      "text/plain": [
       "['Pintu', 'Das', 'ABC']"
      ]
     },
     "execution_count": 36,
     "metadata": {},
     "output_type": "execute_result"
    }
   ],
   "source": [
    "l2_str"
   ]
  },
  {
   "cell_type": "code",
   "execution_count": null,
   "id": "9c8fbb23-b656-4404-8876-b97418c4c17f",
   "metadata": {},
   "outputs": [],
   "source": []
  }
 ],
 "metadata": {
  "kernelspec": {
   "display_name": "Python 3 (ipykernel)",
   "language": "python",
   "name": "python3"
  },
  "language_info": {
   "codemirror_mode": {
    "name": "ipython",
    "version": 3
   },
   "file_extension": ".py",
   "mimetype": "text/x-python",
   "name": "python",
   "nbconvert_exporter": "python",
   "pygments_lexer": "ipython3",
   "version": "3.10.8"
  }
 },
 "nbformat": 4,
 "nbformat_minor": 5
}
