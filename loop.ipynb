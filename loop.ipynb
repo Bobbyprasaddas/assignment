{
 "cells": [
  {
   "cell_type": "code",
   "execution_count": 1,
   "id": "7a6d41c9-428b-42c2-a2fd-ba1c6b9877ab",
   "metadata": {},
   "outputs": [],
   "source": [
    "l = [1, 2, 3, 4, 5]"
   ]
  },
  {
   "cell_type": "code",
   "execution_count": 2,
   "id": "2b06c3c8-3176-4889-b73a-965dbe9415da",
   "metadata": {},
   "outputs": [
    {
     "data": {
      "text/plain": [
       "[1, 2, 3, 4, 5]"
      ]
     },
     "execution_count": 2,
     "metadata": {},
     "output_type": "execute_result"
    }
   ],
   "source": [
    "l"
   ]
  },
  {
   "cell_type": "code",
   "execution_count": 4,
   "id": "b63bf9e4-c95b-49fa-b361-7c30f49a0909",
   "metadata": {},
   "outputs": [
    {
     "name": "stdout",
     "output_type": "stream",
     "text": [
      "1\n",
      "2\n",
      "3\n",
      "4\n",
      "5\n"
     ]
    }
   ],
   "source": [
    "for i in l:\n",
    "    print(i)"
   ]
  },
  {
   "cell_type": "code",
   "execution_count": null,
   "id": "79adb11f-6f0b-48c8-8fbc-915b4bbbc10a",
   "metadata": {},
   "outputs": [],
   "source": []
  },
  {
   "cell_type": "code",
   "execution_count": 5,
   "id": "dedfa995-1041-43fa-9e06-f35aa2deae15",
   "metadata": {},
   "outputs": [
    {
     "name": "stdout",
     "output_type": "stream",
     "text": [
      "1 <class 'int'>\n",
      "2 <class 'int'>\n",
      "3 <class 'int'>\n",
      "4 <class 'int'>\n",
      "5 <class 'int'>\n"
     ]
    }
   ],
   "source": [
    "for i in l:\n",
    "    print(i, type(i))"
   ]
  },
  {
   "cell_type": "code",
   "execution_count": 7,
   "id": "e9b2daad-1d22-43d8-8a55-4dbd382ff761",
   "metadata": {},
   "outputs": [],
   "source": [
    "l1 = [ \"Pintu\", \"Bobby\", \"Prasad\", \"Das\"]"
   ]
  },
  {
   "cell_type": "code",
   "execution_count": 8,
   "id": "b54fe870-d93c-4811-af72-85f9b18454ad",
   "metadata": {},
   "outputs": [
    {
     "data": {
      "text/plain": [
       "['Pintu', 'Bobby', 'Prasad', 'Das']"
      ]
     },
     "execution_count": 8,
     "metadata": {},
     "output_type": "execute_result"
    }
   ],
   "source": [
    "l1"
   ]
  },
  {
   "cell_type": "code",
   "execution_count": 10,
   "id": "ba3a6f15-4477-44af-aba2-a8cbc3d4aa3b",
   "metadata": {},
   "outputs": [
    {
     "name": "stdout",
     "output_type": "stream",
     "text": [
      "Pintu\n",
      "Bobby\n",
      "Prasad\n",
      "Das\n"
     ]
    }
   ],
   "source": [
    "for i in l1:\n",
    "    print(i)"
   ]
  },
  {
   "cell_type": "code",
   "execution_count": 11,
   "id": "c51b3a7e-cf08-4451-9916-0b0b797d731b",
   "metadata": {},
   "outputs": [
    {
     "name": "stdout",
     "output_type": "stream",
     "text": [
      "Pintu\n",
      "Bobby\n",
      "Prasad\n",
      "Das\n",
      "if for loop is able to complete itself, only then else will execute\n"
     ]
    }
   ],
   "source": [
    "for i in l1:\n",
    "    print(i)\n",
    "else:\n",
    "    print(\"if for loop is able to complete itself, only then else will execute\")"
   ]
  },
  {
   "cell_type": "code",
   "execution_count": 12,
   "id": "1a10c1fe-d478-4d16-bea2-8069478f0c3c",
   "metadata": {},
   "outputs": [
    {
     "data": {
      "text/plain": [
       "['Pintu', 'Bobby', 'Prasad', 'Das']"
      ]
     },
     "execution_count": 12,
     "metadata": {},
     "output_type": "execute_result"
    }
   ],
   "source": [
    "l1"
   ]
  },
  {
   "cell_type": "code",
   "execution_count": 17,
   "id": "1203733d-9c5b-422c-b2e7-35d700b94120",
   "metadata": {},
   "outputs": [
    {
     "name": "stdout",
     "output_type": "stream",
     "text": [
      "Pintu\n"
     ]
    }
   ],
   "source": [
    "for i in l1:\n",
    "    if i == 'Bobby':\n",
    "        break\n",
    "    print(i)    \n",
    "else:\n",
    "    print(\"if for loop is able to complete itself, only then else will execute\")        "
   ]
  },
  {
   "cell_type": "code",
   "execution_count": null,
   "id": "6813c6bc-9356-4bc3-ba13-71242f838cd9",
   "metadata": {},
   "outputs": [],
   "source": []
  },
  {
   "cell_type": "code",
   "execution_count": null,
   "id": "a7c807be-05ce-4c2c-b868-6851abc9fcda",
   "metadata": {},
   "outputs": [],
   "source": []
  },
  {
   "cell_type": "code",
   "execution_count": 16,
   "id": "959dd7b6-6a8d-43d7-82ff-5d4a4a29582b",
   "metadata": {},
   "outputs": [
    {
     "name": "stdout",
     "output_type": "stream",
     "text": [
      "Pintu\n",
      "Prasad\n",
      "Das\n"
     ]
    }
   ],
   "source": [
    "for i in l1:\n",
    "    if i == 'Bobby':\n",
    "        continue\n",
    "    print(i)    \n"
   ]
  },
  {
   "cell_type": "code",
   "execution_count": 18,
   "id": "31528bac-48aa-4058-ae92-7d99b17ede14",
   "metadata": {},
   "outputs": [
    {
     "name": "stdout",
     "output_type": "stream",
     "text": [
      "Pintu\n",
      "Prasad\n",
      "Das\n",
      "if for loop is able to complete itself, only then else will execute\n"
     ]
    }
   ],
   "source": [
    "for i in l1:\n",
    "    if i == 'Bobby':\n",
    "        continue\n",
    "    print(i)    \n",
    "else:\n",
    "    print(\"if for loop is able to complete itself, only then else will execute\")"
   ]
  },
  {
   "cell_type": "code",
   "execution_count": 19,
   "id": "189566cb-e093-4aa7-9fdb-7d1c9ac4c21d",
   "metadata": {},
   "outputs": [
    {
     "data": {
      "text/plain": [
       "range(0, 10)"
      ]
     },
     "execution_count": 19,
     "metadata": {},
     "output_type": "execute_result"
    }
   ],
   "source": [
    "range(10)"
   ]
  },
  {
   "cell_type": "code",
   "execution_count": 20,
   "id": "be13b2b3-a50c-4881-af55-18dd35b2fae6",
   "metadata": {},
   "outputs": [
    {
     "data": {
      "text/plain": [
       "[0, 1, 2, 3, 4, 5, 6, 7, 8, 9]"
      ]
     },
     "execution_count": 20,
     "metadata": {},
     "output_type": "execute_result"
    }
   ],
   "source": [
    "list(range(10))"
   ]
  },
  {
   "cell_type": "code",
   "execution_count": 21,
   "id": "8d0554f0-a676-4cc8-b53d-9793fe63b1b7",
   "metadata": {},
   "outputs": [
    {
     "data": {
      "text/plain": [
       "[0, 2, 4, 6, 8, 10, 12, 14, 16, 18, 20, 22, 24, 26, 28]"
      ]
     },
     "execution_count": 21,
     "metadata": {},
     "output_type": "execute_result"
    }
   ],
   "source": [
    "list(range(0,30,2))"
   ]
  },
  {
   "cell_type": "code",
   "execution_count": 30,
   "id": "1f8b47b3-627a-4caf-ab6f-1b5b81dc1a43",
   "metadata": {},
   "outputs": [],
   "source": [
    "l1.reverse()"
   ]
  },
  {
   "cell_type": "code",
   "execution_count": 31,
   "id": "5f6491e4-9aa8-4451-9803-c5f66a45ab01",
   "metadata": {},
   "outputs": [
    {
     "data": {
      "text/plain": [
       "['Pintu', 'Bobby', 'Prasad', 'Das']"
      ]
     },
     "execution_count": 31,
     "metadata": {},
     "output_type": "execute_result"
    }
   ],
   "source": [
    "l1"
   ]
  },
  {
   "cell_type": "code",
   "execution_count": 28,
   "id": "47024b14-6e33-47f9-a79d-edf06dc14b40",
   "metadata": {},
   "outputs": [
    {
     "data": {
      "text/plain": [
       "['Pintu', 'Bobby', 'Prasad', 'Das']"
      ]
     },
     "execution_count": 28,
     "metadata": {},
     "output_type": "execute_result"
    }
   ],
   "source": [
    "l1[::-1]"
   ]
  },
  {
   "cell_type": "code",
   "execution_count": 32,
   "id": "33070252-36c5-434f-83ff-527336a203c4",
   "metadata": {},
   "outputs": [],
   "source": [
    "l1.reverse()"
   ]
  },
  {
   "cell_type": "code",
   "execution_count": 33,
   "id": "f2f8c6c1-dc08-4a89-9b7e-4cb17cd7c004",
   "metadata": {},
   "outputs": [
    {
     "data": {
      "text/plain": [
       "['Das', 'Prasad', 'Bobby', 'Pintu']"
      ]
     },
     "execution_count": 33,
     "metadata": {},
     "output_type": "execute_result"
    }
   ],
   "source": [
    "l1"
   ]
  },
  {
   "cell_type": "code",
   "execution_count": 35,
   "id": "13431935-4f83-4304-a9a9-4a5223cef8a2",
   "metadata": {},
   "outputs": [],
   "source": [
    "l2 = [5,6,6,3,78,39,6,3,4564,654,64,6]"
   ]
  },
  {
   "cell_type": "code",
   "execution_count": 36,
   "id": "ed971fbd-f3a1-4444-a7d9-950f1a4a2abe",
   "metadata": {},
   "outputs": [
    {
     "data": {
      "text/plain": [
       "[5, 6, 6, 3, 78, 39, 6, 3, 4564, 654, 64, 6]"
      ]
     },
     "execution_count": 36,
     "metadata": {},
     "output_type": "execute_result"
    }
   ],
   "source": [
    "l2"
   ]
  },
  {
   "cell_type": "code",
   "execution_count": 37,
   "id": "9778bf52-cf88-4567-a615-20994a3af13a",
   "metadata": {},
   "outputs": [
    {
     "data": {
      "text/plain": [
       "[5, 6, 78, 6, 4564, 64]"
      ]
     },
     "execution_count": 37,
     "metadata": {},
     "output_type": "execute_result"
    }
   ],
   "source": [
    "l2[::2]"
   ]
  },
  {
   "cell_type": "code",
   "execution_count": 38,
   "id": "5db3ddef-9747-4efc-9a5b-28fba4459e15",
   "metadata": {},
   "outputs": [
    {
     "data": {
      "text/plain": [
       "[5, 6, 78, 6, 4564, 64]"
      ]
     },
     "execution_count": 38,
     "metadata": {},
     "output_type": "execute_result"
    }
   ],
   "source": [
    "list(l2[::2])"
   ]
  },
  {
   "cell_type": "code",
   "execution_count": 39,
   "id": "9e7e0781-f971-4a1c-8ceb-9f1ca11b51c1",
   "metadata": {},
   "outputs": [],
   "source": [
    "l = [1, 2, 3.,574564, 89]"
   ]
  },
  {
   "cell_type": "code",
   "execution_count": 40,
   "id": "938b1d41-aaea-471f-b10c-5d2f3ba1afbc",
   "metadata": {},
   "outputs": [
    {
     "data": {
      "text/plain": [
       "[1, 2, 3.0, 574564, 89]"
      ]
     },
     "execution_count": 40,
     "metadata": {},
     "output_type": "execute_result"
    }
   ],
   "source": [
    "l"
   ]
  },
  {
   "cell_type": "code",
   "execution_count": 41,
   "id": "d9ca74a3-caab-44f1-b25b-d9cc952bf6f6",
   "metadata": {},
   "outputs": [
    {
     "data": {
      "text/plain": [
       "574659.0"
      ]
     },
     "execution_count": 41,
     "metadata": {},
     "output_type": "execute_result"
    }
   ],
   "source": [
    "sum(l)"
   ]
  },
  {
   "cell_type": "code",
   "execution_count": 44,
   "id": "70dd0930-d323-4d85-8743-908fe7ebf24b",
   "metadata": {},
   "outputs": [
    {
     "data": {
      "text/plain": [
       "574659.0"
      ]
     },
     "execution_count": 44,
     "metadata": {},
     "output_type": "execute_result"
    }
   ],
   "source": [
    "result = 0\n",
    "for i in l:\n",
    "    result = result + i\n",
    "result    "
   ]
  },
  {
   "cell_type": "code",
   "execution_count": null,
   "id": "9944cd59-d74c-40fb-bec2-7c44e6628938",
   "metadata": {},
   "outputs": [],
   "source": []
  }
 ],
 "metadata": {
  "kernelspec": {
   "display_name": "Python 3 (ipykernel)",
   "language": "python",
   "name": "python3"
  },
  "language_info": {
   "codemirror_mode": {
    "name": "ipython",
    "version": 3
   },
   "file_extension": ".py",
   "mimetype": "text/x-python",
   "name": "python",
   "nbconvert_exporter": "python",
   "pygments_lexer": "ipython3",
   "version": "3.10.8"
  }
 },
 "nbformat": 4,
 "nbformat_minor": 5
}
