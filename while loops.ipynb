{
 "cells": [
  {
   "cell_type": "code",
   "execution_count": 2,
   "id": "7d678564-5083-4a84-8975-3002d97e0a93",
   "metadata": {},
   "outputs": [
    {
     "name": "stdout",
     "output_type": "stream",
     "text": [
      "1\n",
      "2\n",
      "3\n",
      "4\n",
      "5\n",
      "6\n",
      "7\n",
      "8\n",
      "9\n",
      "10\n"
     ]
    }
   ],
   "source": [
    "a = 1\n",
    "while a <= 10:\n",
    "    print(a)\n",
    "    a = a+1"
   ]
  },
  {
   "cell_type": "markdown",
   "id": "4deeec1e-251f-4559-9a45-1aa7446aae70",
   "metadata": {},
   "source": [
    "#sum of the number still some point"
   ]
  },
  {
   "cell_type": "code",
   "execution_count": 2,
   "id": "8a8a2b48-bfa2-4e4a-a56e-2d86288f5d28",
   "metadata": {},
   "outputs": [
    {
     "name": "stdin",
     "output_type": "stream",
     "text": [
      "Enter your limit 10\n"
     ]
    },
    {
     "data": {
      "text/plain": [
       "55"
      ]
     },
     "execution_count": 2,
     "metadata": {},
     "output_type": "execute_result"
    }
   ],
   "source": [
    "n = int(input(\"Enter your limit\"))\n",
    "sum = 0\n",
    "counter =1\n",
    "while counter <= n:\n",
    "    sum = sum+counter\n",
    "    counter =counter+1\n",
    "    \n",
    "sum  "
   ]
  },
  {
   "cell_type": "markdown",
   "id": "9344f15c-8193-4744-9716-ccfa23775c12",
   "metadata": {},
   "source": [
    "###factorial = n(n-1)"
   ]
  },
  {
   "cell_type": "code",
   "execution_count": 6,
   "id": "6f019e6e-eb1d-42c9-a8aa-266d66bc6894",
   "metadata": {},
   "outputs": [
    {
     "name": "stdin",
     "output_type": "stream",
     "text": [
      "Enter your number 1\n"
     ]
    },
    {
     "data": {
      "text/plain": [
       "1"
      ]
     },
     "execution_count": 6,
     "metadata": {},
     "output_type": "execute_result"
    }
   ],
   "source": [
    "n = int(input(\"Enter your number\"))\n",
    "f = 1\n",
    "while n > 0:\n",
    "        f = f*n\n",
    "        n = n-1\n",
    "f        "
   ]
  },
  {
   "cell_type": "code",
   "execution_count": 7,
   "id": "555b42b0-baf8-460f-8647-e84e5dad939f",
   "metadata": {},
   "outputs": [],
   "source": [
    "#fibonacci series"
   ]
  },
  {
   "cell_type": "code",
   "execution_count": 15,
   "id": "eb4c3534-c66b-4b6a-a7dc-bad488d328af",
   "metadata": {},
   "outputs": [
    {
     "name": "stdout",
     "output_type": "stream",
     "text": [
      "0\n",
      "1\n",
      "1\n",
      "2\n",
      "3\n"
     ]
    }
   ],
   "source": [
    "a = 0\n",
    "b = 1\n",
    "for i in range (5):\n",
    "    print(a)\n",
    "    c = a + b\n",
    "    a = b\n",
    "    b = c\n",
    "    \n",
    "        "
   ]
  },
  {
   "cell_type": "code",
   "execution_count": 16,
   "id": "7696483e-8d2c-457b-aa63-ccf16441a3cf",
   "metadata": {},
   "outputs": [],
   "source": [
    "#print table of numbers"
   ]
  },
  {
   "cell_type": "code",
   "execution_count": 23,
   "id": "b81d2ccf-a53f-471d-9ebd-0926d4be4be6",
   "metadata": {},
   "outputs": [
    {
     "name": "stdin",
     "output_type": "stream",
     "text": [
      "Enter your number 25\n"
     ]
    },
    {
     "name": "stdout",
     "output_type": "stream",
     "text": [
      "25 * 2 = 25\n",
      "25 * 3 = 50\n",
      "25 * 4 = 75\n",
      "25 * 5 = 100\n",
      "25 * 6 = 125\n",
      "25 * 7 = 150\n",
      "25 * 8 = 175\n",
      "25 * 9 = 200\n",
      "25 * 10 = 225\n",
      "25 * 11 = 250\n"
     ]
    }
   ],
   "source": [
    "n = int(input(\"Enter your number\"))\n",
    "i = 1\n",
    "while i <= 10:\n",
    "    result = n*i\n",
    "    i = i +1\n",
    "    print( n, \"*\", i, \"=\", result)\n",
    "\n",
    "        "
   ]
  },
  {
   "cell_type": "code",
   "execution_count": null,
   "id": "c927a2ed-cc43-48da-b70b-9afaaec422fa",
   "metadata": {},
   "outputs": [],
   "source": []
  }
 ],
 "metadata": {
  "kernelspec": {
   "display_name": "Python 3 (ipykernel)",
   "language": "python",
   "name": "python3"
  },
  "language_info": {
   "codemirror_mode": {
    "name": "ipython",
    "version": 3
   },
   "file_extension": ".py",
   "mimetype": "text/x-python",
   "name": "python",
   "nbconvert_exporter": "python",
   "pygments_lexer": "ipython3",
   "version": "3.10.8"
  }
 },
 "nbformat": 4,
 "nbformat_minor": 5
}
