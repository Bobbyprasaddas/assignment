{
 "cells": [
  {
   "cell_type": "code",
   "execution_count": 1,
   "id": "d5ff1ffc-cdbc-4d7b-bf99-3d6c5cc8332f",
   "metadata": {},
   "outputs": [],
   "source": [
    "d = {}"
   ]
  },
  {
   "cell_type": "code",
   "execution_count": 3,
   "id": "493e3619-ddfa-494e-8603-3d991a61ce5b",
   "metadata": {},
   "outputs": [
    {
     "data": {
      "text/plain": [
       "dict"
      ]
     },
     "execution_count": 3,
     "metadata": {},
     "output_type": "execute_result"
    }
   ],
   "source": [
    "type(d)"
   ]
  },
  {
   "cell_type": "code",
   "execution_count": 6,
   "id": "b2f49195-52e5-4c58-bd61-277f14a6393c",
   "metadata": {},
   "outputs": [],
   "source": [
    "d1 = { 'key' : 'Pin', 'Name' : 'Pintu', 'email' : 'goalofprasad@rediffmail.com', 'number' : 8406979 }"
   ]
  },
  {
   "cell_type": "code",
   "execution_count": 7,
   "id": "35849c75-ca31-4f60-953a-16738e8e2208",
   "metadata": {},
   "outputs": [
    {
     "data": {
      "text/plain": [
       "{'key': 'Pin',\n",
       " 'Name': 'Pintu',\n",
       " 'email': 'goalofprasad@rediffmail.com',\n",
       " 'number': 8406979}"
      ]
     },
     "execution_count": 7,
     "metadata": {},
     "output_type": "execute_result"
    }
   ],
   "source": [
    "d1"
   ]
  },
  {
   "cell_type": "code",
   "execution_count": 8,
   "id": "8533d595-7d66-4ba7-add1-ec4528cf714c",
   "metadata": {},
   "outputs": [
    {
     "data": {
      "text/plain": [
       "dict_keys(['key', 'Name', 'email', 'number'])"
      ]
     },
     "execution_count": 8,
     "metadata": {},
     "output_type": "execute_result"
    }
   ],
   "source": [
    "d1.keys()"
   ]
  },
  {
   "cell_type": "code",
   "execution_count": 9,
   "id": "7ad63975-7d4d-4393-b863-d4dfaedf90ba",
   "metadata": {},
   "outputs": [
    {
     "data": {
      "text/plain": [
       "dict_values(['Pin', 'Pintu', 'goalofprasad@rediffmail.com', 8406979])"
      ]
     },
     "execution_count": 9,
     "metadata": {},
     "output_type": "execute_result"
    }
   ],
   "source": [
    "d1.values()"
   ]
  },
  {
   "cell_type": "code",
   "execution_count": null,
   "id": "4e0728b9-43b0-4ec5-9b4b-9533dce61959",
   "metadata": {},
   "outputs": [],
   "source": []
  },
  {
   "cell_type": "code",
   "execution_count": 10,
   "id": "d081eacc-3277-443a-942d-07682a9b860e",
   "metadata": {},
   "outputs": [
    {
     "data": {
      "text/plain": [
       "['Pin', 'Pintu', 'goalofprasad@rediffmail.com', 8406979]"
      ]
     },
     "execution_count": 10,
     "metadata": {},
     "output_type": "execute_result"
    }
   ],
   "source": [
    "list(d1.values())"
   ]
  },
  {
   "cell_type": "code",
   "execution_count": 11,
   "id": "5535afa8-bfd6-4869-b5e7-fd2112c3f72b",
   "metadata": {},
   "outputs": [
    {
     "data": {
      "text/plain": [
       "dict_items([('key', 'Pin'), ('Name', 'Pintu'), ('email', 'goalofprasad@rediffmail.com'), ('number', 8406979)])"
      ]
     },
     "execution_count": 11,
     "metadata": {},
     "output_type": "execute_result"
    }
   ],
   "source": [
    "d1.items()"
   ]
  },
  {
   "cell_type": "code",
   "execution_count": null,
   "id": "faa83237-4651-4c2d-b15e-3429dc15acf2",
   "metadata": {},
   "outputs": [],
   "source": [
    "marks = input(\"Enter your marks\")\n",
    "if marks >= 80:\n",
    "    print(\"Bravos, You are part of A1 batch \")\n",
    "elif marks >= 60 and marks < 80:\n",
    "    print(\"Congrats, You are part of b group\")\n",
    "elif marks >= 40 and marks <60:\n",
    "    print(\"Well done, You are part of c group\")\n",
    "else:\n",
    "    print(\" Sorry , you are not selected , try again harde\")\n",
    "    \n",
    "    "
   ]
  },
  {
   "cell_type": "code",
   "execution_count": null,
   "id": "82ce9624-0574-4712-947d-def1163cf9ce",
   "metadata": {},
   "outputs": [],
   "source": []
  },
  {
   "cell_type": "code",
   "execution_count": null,
   "id": "635db868-e963-4875-b67d-375572ef26d0",
   "metadata": {},
   "outputs": [],
   "source": []
  },
  {
   "cell_type": "code",
   "execution_count": null,
   "id": "1d4c33c2-d04b-4973-9829-f5521ea43b43",
   "metadata": {},
   "outputs": [],
   "source": []
  }
 ],
 "metadata": {
  "kernelspec": {
   "display_name": "Python 3 (ipykernel)",
   "language": "python",
   "name": "python3"
  },
  "language_info": {
   "codemirror_mode": {
    "name": "ipython",
    "version": 3
   },
   "file_extension": ".py",
   "mimetype": "text/x-python",
   "name": "python",
   "nbconvert_exporter": "python",
   "pygments_lexer": "ipython3",
   "version": "3.10.8"
  }
 },
 "nbformat": 4,
 "nbformat_minor": 5
}
