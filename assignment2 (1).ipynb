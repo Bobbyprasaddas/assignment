{
 "cells": [
  {
   "cell_type": "markdown",
   "id": "d19dcbc2-6a53-4a0c-87d0-1755d4b19601",
   "metadata": {},
   "source": [
    "Q1. How do you comment code in Python? What are the different types of comments?"
   ]
  },
  {
   "cell_type": "code",
   "execution_count": 10,
   "id": "7d8b4353-1b6c-4c91-a745-b97cd69e3e64",
   "metadata": {},
   "outputs": [
    {
     "name": "stdout",
     "output_type": "stream",
     "text": [
      "You will never walk alone\n"
     ]
    }
   ],
   "source": [
    "\n",
    "# This is a single-line comment\n",
    "print(\"You will never walk alone\")\n"
   ]
  },
  {
   "cell_type": "code",
   "execution_count": 5,
   "id": "39e3bb54-5395-4923-98dc-f9f1a6cb5613",
   "metadata": {},
   "outputs": [
    {
     "name": "stdout",
     "output_type": "stream",
     "text": [
      "You will never walk alone\n"
     ]
    }
   ],
   "source": [
    "'''\n",
    "This is a\n",
    "multi-line\n",
    "comment.\n",
    "'''\n",
    "print(\"You will never walk alone\")"
   ]
  },
  {
   "cell_type": "code",
   "execution_count": null,
   "id": "f1765193-e976-44f6-8999-cf832afeca08",
   "metadata": {},
   "outputs": [],
   "source": []
  },
  {
   "cell_type": "markdown",
   "id": "0c1e02a8-15b8-48d5-9b3e-4661491f5f78",
   "metadata": {},
   "source": [
    "Q2. What are variables in Python? How do you declare and assign values to variables?"
   ]
  },
  {
   "cell_type": "code",
   "execution_count": 9,
   "id": "a02eba3c-a155-4558-b8a7-06041ce0814b",
   "metadata": {},
   "outputs": [],
   "source": [
    "# <!-- In Python, variables are used to store data values. -->"
   ]
  },
  {
   "cell_type": "code",
   "execution_count": 6,
   "id": "f72a2ebe-ba7a-485f-b8de-f4858683e24d",
   "metadata": {},
   "outputs": [],
   "source": [
    "# Assigning a value to a variable\n",
    "age = 28\n",
    "name = \"Bobby Firmino\"\n"
   ]
  },
  {
   "cell_type": "markdown",
   "id": "56234f3f-6638-40d0-8355-1dca0b496ae7",
   "metadata": {},
   "source": [
    "Q3. How do you convert one data type to another in Python?"
   ]
  },
  {
   "cell_type": "code",
   "execution_count": 11,
   "id": "841bb7a1-baa7-4a03-8f98-93555a7d50bb",
   "metadata": {},
   "outputs": [
    {
     "name": "stdout",
     "output_type": "stream",
     "text": [
      "50.0\n"
     ]
    }
   ],
   "source": [
    "x = 50\n",
    "y = \"100\"\n",
    "\n",
    "# Explicitly converting x to float\n",
    "float_x = float(x)\n",
    "print(float_x) "
   ]
  },
  {
   "cell_type": "code",
   "execution_count": 12,
   "id": "96c97d85-c795-4546-862b-957e9096c88d",
   "metadata": {},
   "outputs": [
    {
     "name": "stdout",
     "output_type": "stream",
     "text": [
      "100\n"
     ]
    }
   ],
   "source": [
    "\n",
    "# Explicitly converting y to integer\n",
    "int_y = int(y)\n",
    "print(int_y)  \n"
   ]
  },
  {
   "cell_type": "code",
   "execution_count": 13,
   "id": "61c5dc09-9e3d-43ff-9fe9-e36922c3f0f3",
   "metadata": {},
   "outputs": [
    {
     "name": "stdout",
     "output_type": "stream",
     "text": [
      "50\n"
     ]
    }
   ],
   "source": [
    "# Explicitly converting x to string\n",
    "str_x = str(x)\n",
    "print(str_x)\n",
    "\n"
   ]
  },
  {
   "cell_type": "markdown",
   "id": "6234b91d-5cb6-4c5c-94f2-973be33824e3",
   "metadata": {},
   "source": [
    "Q4. How do you write and execute a Python script from the command line?"
   ]
  },
  {
   "cell_type": "code",
   "execution_count": 1,
   "id": "5173f693-b951-4754-ab81-b5805ab42e6a",
   "metadata": {},
   "outputs": [],
   "source": [
    "# To write a Python script from the command line, you can use any text editor to create a new file with a .py extension, such as script.py. Once you've written the script, you can execute it by opening a command prompt or terminal, navigating to the directory where the script is located, and entering the command python script.py (replace \"script.py\" with the actual name of your script) and pressing Enter."
   ]
  },
  {
   "cell_type": "code",
   "execution_count": null,
   "id": "125f27e6-bb38-4561-a26e-f9221e601f28",
   "metadata": {},
   "outputs": [],
   "source": []
  },
  {
   "cell_type": "markdown",
   "id": "e8ab7bc9-7aa7-4823-862c-eff6e1336fe6",
   "metadata": {},
   "source": [
    "Q5. Given a list my_list = [1, 2, 3, 4, 5], write the code to slice the list and obtain the sub-list [2, 3]."
   ]
  },
  {
   "cell_type": "code",
   "execution_count": 2,
   "id": "ccccdfde-fbe5-41d1-99ea-d8d40d98269e",
   "metadata": {},
   "outputs": [
    {
     "name": "stdout",
     "output_type": "stream",
     "text": [
      "[2, 3]\n"
     ]
    }
   ],
   "source": [
    "my_list = [1, 2, 3, 4, 5]\n",
    "sub_list = my_list[1:3]\n",
    "print(sub_list)\n"
   ]
  },
  {
   "cell_type": "markdown",
   "id": "a2420bdf-4512-49a4-a506-aa6534c73fd7",
   "metadata": {},
   "source": [
    "Q6. What is a complex number in mathematics, and how is it represented in Python?"
   ]
  },
  {
   "cell_type": "code",
   "execution_count": 5,
   "id": "29c98187-a2fb-460a-872c-77d34b3d42d2",
   "metadata": {},
   "outputs": [
    {
     "name": "stdout",
     "output_type": "stream",
     "text": [
      "(6+7j)\n"
     ]
    }
   ],
   "source": [
    "# In mathematics, a complex number is a number that consists of two parts: a real part and an imaginary part.\n",
    "# It is written in the form \"a + bi\", where \"a\" represents the real part and \"b\" represents the imaginary part.\n",
    "# The imaginary part is scaled by the imaginary unit \"i\" or \"j\"\n",
    "\n",
    "# Complex number creation in python\n",
    "x = 6     # Real part\n",
    "y = 7    # Imaginary part\n",
    "z = complex(x, y)\n",
    "print(z)\n"
   ]
  },
  {
   "cell_type": "markdown",
   "id": "51d69ef9-e9ab-4ba0-a346-d3b3a3ecbafc",
   "metadata": {},
   "source": [
    "Q7. What is the correct way to declare a variable named age and assign the value 25 to it?"
   ]
  },
  {
   "cell_type": "code",
   "execution_count": 7,
   "id": "2076e21b-d416-46c4-994b-db96ebf91d41",
   "metadata": {},
   "outputs": [
    {
     "name": "stdout",
     "output_type": "stream",
     "text": [
      "25\n"
     ]
    }
   ],
   "source": [
    "age = 25\n",
    "print(age)"
   ]
  },
  {
   "cell_type": "code",
   "execution_count": null,
   "id": "6e947abe-0c84-49f8-8f02-5dfa86d3c33e",
   "metadata": {},
   "outputs": [],
   "source": []
  },
  {
   "cell_type": "markdown",
   "id": "91938f80-bd1c-4609-ba56-b6bd4c6a8cb3",
   "metadata": {},
   "source": [
    "Q8. Declare a variable named price and assign the value 9.99 to it. What data type does this variable\n",
    "belong to?"
   ]
  },
  {
   "cell_type": "code",
   "execution_count": 9,
   "id": "2ee4a541-8464-4af4-b008-be9048bf315d",
   "metadata": {},
   "outputs": [
    {
     "name": "stdout",
     "output_type": "stream",
     "text": [
      "<class 'float'>\n"
     ]
    }
   ],
   "source": [
    "price = 9.99\n",
    "print(type(price))"
   ]
  },
  {
   "cell_type": "code",
   "execution_count": null,
   "id": "0c1baf4d-f002-4672-a659-c219801b8f51",
   "metadata": {},
   "outputs": [],
   "source": []
  },
  {
   "cell_type": "markdown",
   "id": "4214fc40-2da0-4224-b080-1467a2e78a09",
   "metadata": {},
   "source": [
    "Q9. Create a variable named name and assign your full name to it as a string. How would you print the\n",
    "value of this variable?"
   ]
  },
  {
   "cell_type": "code",
   "execution_count": 10,
   "id": "a591c94d-68ce-46d5-b9bb-371b4ce721db",
   "metadata": {},
   "outputs": [],
   "source": [
    "name = \"Bhabani Prasad Das\""
   ]
  },
  {
   "cell_type": "code",
   "execution_count": 11,
   "id": "747d19ac-0d6f-46af-aab0-bd0a9382e6fc",
   "metadata": {},
   "outputs": [
    {
     "name": "stdout",
     "output_type": "stream",
     "text": [
      "Bhabani Prasad Das\n"
     ]
    }
   ],
   "source": [
    "print(name)"
   ]
  },
  {
   "cell_type": "code",
   "execution_count": null,
   "id": "0cfaa3ec-ec49-4298-8e3b-a2f0e526b224",
   "metadata": {},
   "outputs": [],
   "source": []
  },
  {
   "cell_type": "markdown",
   "id": "3f0b9403-470e-4be9-ba5e-76bb11965b30",
   "metadata": {},
   "source": [
    "Q10. Given the string \"Hello, World!\", extract the substring \"World\"."
   ]
  },
  {
   "cell_type": "code",
   "execution_count": 12,
   "id": "9899ae58-7802-4774-b47c-cb135d7f35fa",
   "metadata": {},
   "outputs": [
    {
     "name": "stdout",
     "output_type": "stream",
     "text": [
      "World\n"
     ]
    }
   ],
   "source": [
    "string = \"Hello, World!\"\n",
    "substring = string[7:12]\n",
    "print(substring)\n"
   ]
  },
  {
   "cell_type": "code",
   "execution_count": null,
   "id": "c29a0977-9c0a-42a6-838f-0c8b5d610702",
   "metadata": {},
   "outputs": [],
   "source": []
  },
  {
   "cell_type": "markdown",
   "id": "1a65e4c5-0e38-4b2f-9ecf-0088fa13bb3f",
   "metadata": {},
   "source": [
    "Q11. Create a variable named \"is_student\" and assign it a boolean value indicating whether you are\n",
    "currently a student or not."
   ]
  },
  {
   "cell_type": "code",
   "execution_count": 2,
   "id": "3e02f860-7af8-4259-a009-6d78b1cf9ffa",
   "metadata": {},
   "outputs": [
    {
     "name": "stdin",
     "output_type": "stream",
     "text": [
      "Enter your age:  15\n"
     ]
    },
    {
     "name": "stdout",
     "output_type": "stream",
     "text": [
      "True\n"
     ]
    }
   ],
   "source": [
    "is_student = True\n",
    "a = int(input(\"Enter your age: \")) \n",
    "\n",
    "if a <= 18:\n",
    "    print(is_student)\n",
    "else:\n",
    "    print(False)\n",
    "\n",
    "    \n",
    "    "
   ]
  },
  {
   "cell_type": "code",
   "execution_count": null,
   "id": "343345d9-aa4f-480c-bee5-deb6ebde969b",
   "metadata": {},
   "outputs": [],
   "source": []
  },
  {
   "cell_type": "code",
   "execution_count": null,
   "id": "a413f870-4f96-42e9-a3a8-4828b3574933",
   "metadata": {},
   "outputs": [],
   "source": []
  }
 ],
 "metadata": {
  "kernelspec": {
   "display_name": "Python 3 (ipykernel)",
   "language": "python",
   "name": "python3"
  },
  "language_info": {
   "codemirror_mode": {
    "name": "ipython",
    "version": 3
   },
   "file_extension": ".py",
   "mimetype": "text/x-python",
   "name": "python",
   "nbconvert_exporter": "python",
   "pygments_lexer": "ipython3",
   "version": "3.10.8"
  }
 },
 "nbformat": 4,
 "nbformat_minor": 5
}
