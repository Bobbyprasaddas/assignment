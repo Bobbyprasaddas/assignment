{
 "cells": [
  {
   "cell_type": "markdown",
   "id": "81dac0f6-daaf-41da-8ad1-6e3a4871cfcc",
   "metadata": {},
   "source": [
    "Q1. Explain Class and Object with respect to Object-Oriented Programming. Give a suitable example."
   ]
  },
  {
   "cell_type": "code",
   "execution_count": 1,
   "id": "1116c209-d0f6-491e-9ed0-243d1f3ccd77",
   "metadata": {},
   "outputs": [],
   "source": [
    "# In object-oriented programming (OOP), a class is a blueprint or a template for creating objects.\n",
    "# It defines the characteristics and behaviors that objects of that class will have. \n",
    "# A class encapsulates data (attributes) and functions (methods) into a single unit."
   ]
  },
  {
   "cell_type": "code",
   "execution_count": 2,
   "id": "69276d54-d5c2-4568-bc9a-c4bc34b4f4f1",
   "metadata": {},
   "outputs": [],
   "source": [
    "class State:\n",
    "    def __init__(self, name, capital, population):\n",
    "        self.name = name\n",
    "        self.capital = capital\n",
    "        self.population = population\n",
    "    \n",
    "    def get_info(self):\n",
    "        return f\"{self.name} - Capital: {self.capital}, Population: {self.population} million\"\n",
    "\n"
   ]
  },
  {
   "cell_type": "code",
   "execution_count": 6,
   "id": "dcf3ccfb-5c95-4c91-add0-fff143691974",
   "metadata": {},
   "outputs": [],
   "source": [
    "Odisha = State(\"Odisha\", \"BBSR\", \"4.5cr\")"
   ]
  },
  {
   "cell_type": "code",
   "execution_count": 8,
   "id": "1f13ed19-0009-4745-b851-56ad3578c920",
   "metadata": {},
   "outputs": [
    {
     "data": {
      "text/plain": [
       "'Odisha'"
      ]
     },
     "execution_count": 8,
     "metadata": {},
     "output_type": "execute_result"
    }
   ],
   "source": [
    "Odisha.name"
   ]
  },
  {
   "cell_type": "code",
   "execution_count": 9,
   "id": "671f2207-d75f-4a53-854f-149d3d839009",
   "metadata": {},
   "outputs": [
    {
     "data": {
      "text/plain": [
       "'Odisha - Capital: BBSR, Population: 4.5cr million'"
      ]
     },
     "execution_count": 9,
     "metadata": {},
     "output_type": "execute_result"
    }
   ],
   "source": [
    "Odisha.get_info()"
   ]
  },
  {
   "cell_type": "markdown",
   "id": "c5b4074b-c288-453b-9513-2238d03ab9fe",
   "metadata": {},
   "source": [
    "Odisha.capital"
   ]
  },
  {
   "cell_type": "code",
   "execution_count": 11,
   "id": "92a6b5cd-9969-4353-bbd4-0c03ac077baa",
   "metadata": {},
   "outputs": [
    {
     "data": {
      "text/plain": [
       "'4.5cr'"
      ]
     },
     "execution_count": 11,
     "metadata": {},
     "output_type": "execute_result"
    }
   ],
   "source": [
    "Odisha.population"
   ]
  },
  {
   "cell_type": "code",
   "execution_count": null,
   "id": "2a5d1afb-2f44-438b-bd0b-9562060f3386",
   "metadata": {},
   "outputs": [],
   "source": []
  },
  {
   "cell_type": "markdown",
   "id": "9d21525b-f0bb-474a-963a-94df02dee45f",
   "metadata": {},
   "source": [
    "Q2. Name the four pillars of OOPs."
   ]
  },
  {
   "cell_type": "code",
   "execution_count": null,
   "id": "d0168d0c-0ca6-4b2f-9431-e70df2ab38aa",
   "metadata": {},
   "outputs": [],
   "source": []
  },
  {
   "cell_type": "markdown",
   "id": "a257c0a3-b1c9-4091-b3c0-e06c93cbcf35",
   "metadata": {},
   "source": [
    "1. Encapsulation\n",
    "2. Polymorphism\n",
    "3. Inheritance\n",
    "4. Abstraction"
   ]
  },
  {
   "cell_type": "code",
   "execution_count": null,
   "id": "1e804c84-f3e4-4f94-afd7-60b37646eaeb",
   "metadata": {},
   "outputs": [],
   "source": []
  },
  {
   "cell_type": "raw",
   "id": "f1668d56-2d0c-4dc8-8933-e1af68a7a3c0",
   "metadata": {},
   "source": [
    "Q3. Explain why the __init__() function is used. Give a suitable example."
   ]
  },
  {
   "cell_type": "code",
   "execution_count": 14,
   "id": "18164dea-1959-4604-bcce-2de3f2f4af5a",
   "metadata": {},
   "outputs": [],
   "source": [
    "# The __init__() function is a special method in Python classes that is automatically called when an object of a class is created. \n",
    "# It is used to initialize the attributes of the object and perform any other setup tasks that are necessary before the object can be used."
   ]
  },
  {
   "cell_type": "code",
   "execution_count": 15,
   "id": "0d24de50-0685-49bc-84b0-3c6cc2f6f95c",
   "metadata": {},
   "outputs": [],
   "source": [
    "class Player:\n",
    "    def __init__(self, name, position, jersey_number):\n",
    "        self.name = name\n",
    "        self.position = position\n",
    "        self.jersey_number = jersey_number\n",
    "    \n",
    "    def get_info(self):\n",
    "        return f\"Name: {self.name}, Position: {self.position}, Jersey Number: {self.jersey_number}\"\n",
    "\n"
   ]
  },
  {
   "cell_type": "code",
   "execution_count": 19,
   "id": "d53aa851-5408-4a7f-a7bb-f5131073b237",
   "metadata": {},
   "outputs": [],
   "source": [
    "Virgil_Van_Dijk = Player(\"Virgil\", \"Defender\", 4)"
   ]
  },
  {
   "cell_type": "code",
   "execution_count": 20,
   "id": "034a5f3c-b2fa-4fa2-adcd-783d50e66f8a",
   "metadata": {},
   "outputs": [
    {
     "data": {
      "text/plain": [
       "'Defender'"
      ]
     },
     "execution_count": 20,
     "metadata": {},
     "output_type": "execute_result"
    }
   ],
   "source": [
    "Virgil_Van_Dijk.position"
   ]
  },
  {
   "cell_type": "code",
   "execution_count": 21,
   "id": "41f462ac-7b91-4c92-91c3-338353768bcf",
   "metadata": {},
   "outputs": [
    {
     "data": {
      "text/plain": [
       "'Defender'"
      ]
     },
     "execution_count": 21,
     "metadata": {},
     "output_type": "execute_result"
    }
   ],
   "source": [
    "Virgil_Van_Dijk.position"
   ]
  },
  {
   "cell_type": "code",
   "execution_count": 22,
   "id": "248786ef-9c8b-45d2-aea2-9552bca2ba5a",
   "metadata": {},
   "outputs": [
    {
     "data": {
      "text/plain": [
       "'Name: Virgil, Position: Defender, Jersey Number: 4'"
      ]
     },
     "execution_count": 22,
     "metadata": {},
     "output_type": "execute_result"
    }
   ],
   "source": [
    "Virgil_Van_Dijk.get_info()"
   ]
  },
  {
   "cell_type": "code",
   "execution_count": null,
   "id": "b15883d8-d740-4434-bac9-580826eeb560",
   "metadata": {},
   "outputs": [],
   "source": []
  },
  {
   "cell_type": "code",
   "execution_count": null,
   "id": "6e147702-e0bb-40a9-a3dc-beabfa245e8f",
   "metadata": {},
   "outputs": [],
   "source": []
  },
  {
   "cell_type": "markdown",
   "id": "5d997553-0372-47a5-861f-2c6adb2c19ad",
   "metadata": {},
   "source": [
    "Q4. Why self is used in OOPs?"
   ]
  },
  {
   "cell_type": "code",
   "execution_count": 23,
   "id": "431dcb72-13b0-4b55-86aa-539e287bba00",
   "metadata": {},
   "outputs": [],
   "source": [
    "# Need for Self in Python\n",
    "# The self variable is used to represent the instance of the class which is often used in object-oriented programming. \n",
    "# It works as a reference to the object. Python uses the self parameter to refer to instance attributes and methods of the class."
   ]
  },
  {
   "cell_type": "code",
   "execution_count": null,
   "id": "23cb6048-513b-4c1c-b15e-a806df202045",
   "metadata": {},
   "outputs": [],
   "source": []
  },
  {
   "cell_type": "markdown",
   "id": "d9c3ef1f-d6d2-4604-8f9d-3fc1d9360b93",
   "metadata": {},
   "source": [
    "Q5. What is inheritance? Give an example for each type of inheritance."
   ]
  },
  {
   "cell_type": "code",
   "execution_count": 24,
   "id": "1cfa9c45-528f-4e3c-8822-c494197b7b88",
   "metadata": {},
   "outputs": [],
   "source": [
    "# Inheritance is a fundamental concept in object-oriented programming (OOP) that allows a class to inherit attributes \n",
    "# and behaviors from another class. \n",
    "# The class that inherits is called a subclass or derived class, and the class from which it inherits is called a superclass or base class. \n",
    "# Inheritance promotes code reuse, modularity, and the creation of hierarchical relationships between classes."
   ]
  },
  {
   "cell_type": "markdown",
   "id": "40f099d5-5cb0-4980-9969-3aaf3ef4693a",
   "metadata": {},
   "source": [
    "Single Inheritance"
   ]
  },
  {
   "cell_type": "code",
   "execution_count": 25,
   "id": "a5bc3bb8-3b41-416f-8d44-aa504026d3e8",
   "metadata": {},
   "outputs": [],
   "source": [
    "class Animal:\n",
    "    def speak(self):\n",
    "        print(\"Animal speaks.\")\n",
    "\n",
    "class Dog(Animal):\n",
    "    def bark(self):\n",
    "        print(\"Dog barks.\")\n",
    "\n"
   ]
  },
  {
   "cell_type": "code",
   "execution_count": 26,
   "id": "c83767e9-c3bf-4eff-9221-099c36cab789",
   "metadata": {},
   "outputs": [],
   "source": [
    "Dog1 = Dog()"
   ]
  },
  {
   "cell_type": "code",
   "execution_count": 27,
   "id": "10d00f9b-3aed-4b17-aed7-1e94f597b40a",
   "metadata": {},
   "outputs": [
    {
     "name": "stdout",
     "output_type": "stream",
     "text": [
      "Dog barks.\n"
     ]
    }
   ],
   "source": [
    "Dog1.bark()"
   ]
  },
  {
   "cell_type": "code",
   "execution_count": 28,
   "id": "5cffd5bd-a961-4ec4-9ef1-9156707f9885",
   "metadata": {},
   "outputs": [
    {
     "name": "stdout",
     "output_type": "stream",
     "text": [
      "Animal speaks.\n"
     ]
    }
   ],
   "source": [
    "Dog1.speak()"
   ]
  },
  {
   "cell_type": "code",
   "execution_count": null,
   "id": "efe5b9a2-baa9-4350-89d0-a5e26a993652",
   "metadata": {},
   "outputs": [],
   "source": []
  },
  {
   "cell_type": "markdown",
   "id": "e89f3911-14b5-4a28-bd61-65cfe38d0f87",
   "metadata": {},
   "source": [
    "Multiple Inheritance"
   ]
  },
  {
   "cell_type": "code",
   "execution_count": 29,
   "id": "4a9bfeff-0498-43f8-876d-43852de0f127",
   "metadata": {},
   "outputs": [],
   "source": [
    "class Flyable:\n",
    "    def fly(self):\n",
    "        print(\"Can fly.\")\n",
    "\n",
    "class Swimable:\n",
    "    def swim(self):\n",
    "        print(\"Can swim.\")\n",
    "\n",
    "class Duck(Flyable, Swimable):\n",
    "    pass\n",
    "\n",
    "\n"
   ]
  },
  {
   "cell_type": "code",
   "execution_count": 30,
   "id": "46e9c84e-9f22-4810-87b6-085af2d830b7",
   "metadata": {},
   "outputs": [],
   "source": [
    "duck =Duck()"
   ]
  },
  {
   "cell_type": "code",
   "execution_count": 31,
   "id": "03c8b754-4159-425d-822b-a18ca60f7461",
   "metadata": {},
   "outputs": [
    {
     "name": "stdout",
     "output_type": "stream",
     "text": [
      "Can fly.\n"
     ]
    }
   ],
   "source": [
    "duck.fly()"
   ]
  },
  {
   "cell_type": "code",
   "execution_count": 32,
   "id": "18639e60-2dd2-4962-bf84-c6cb8b19740f",
   "metadata": {},
   "outputs": [
    {
     "name": "stdout",
     "output_type": "stream",
     "text": [
      "Can swim.\n"
     ]
    }
   ],
   "source": [
    "duck.swim()"
   ]
  },
  {
   "cell_type": "code",
   "execution_count": null,
   "id": "bdb69c16-51c5-4769-8d42-60c2db9862a1",
   "metadata": {},
   "outputs": [],
   "source": []
  }
 ],
 "metadata": {
  "kernelspec": {
   "display_name": "Python 3 (ipykernel)",
   "language": "python",
   "name": "python3"
  },
  "language_info": {
   "codemirror_mode": {
    "name": "ipython",
    "version": 3
   },
   "file_extension": ".py",
   "mimetype": "text/x-python",
   "name": "python",
   "nbconvert_exporter": "python",
   "pygments_lexer": "ipython3",
   "version": "3.10.8"
  }
 },
 "nbformat": 4,
 "nbformat_minor": 5
}
