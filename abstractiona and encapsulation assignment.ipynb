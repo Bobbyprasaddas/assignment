{
 "cells": [
  {
   "cell_type": "markdown",
   "id": "ba3141d2-0f73-4e62-a9ae-e9d5008e5b0a",
   "metadata": {},
   "source": [
    "Q1. What is Abstraction in OOps? Explain with an example."
   ]
  },
  {
   "cell_type": "code",
   "execution_count": 2,
   "id": "093548e6-7747-4e58-b250-fb2369e0c7ba",
   "metadata": {},
   "outputs": [],
   "source": [
    "# In object-oriented programming (OOP), abstraction is a fundamental concept that focuses on representing essential features and \n",
    "# behaviors of an object while hiding unnecessary details. \n",
    "# It allows you to create abstract classes or interfaces that define a common structure and behavior for a group of related objects."
   ]
  },
  {
   "cell_type": "code",
   "execution_count": 8,
   "id": "13519a86-8d09-4170-82bc-683fea19d97f",
   "metadata": {},
   "outputs": [],
   "source": [
    "from abc import ABC, abstractmethod\n",
    "\n",
    "class Shape(ABC):\n",
    "    @abstractmethod\n",
    "    def area(self):\n",
    "        pass\n",
    "\n",
    "class Rectangle(Shape):\n",
    "    def __init__(self, length, width):\n",
    "        self.length = length\n",
    "        self.width = width\n",
    "\n",
    "    def area(self):\n",
    "        return self.length * self.width\n",
    "\n",
    "class Circle(Shape):\n",
    "    def __init__(self, radius):\n",
    "        self.radius = radius\n",
    "\n",
    "    def area(self):\n",
    "        return 3.14 * self.radius * self.radius\n",
    "\n"
   ]
  },
  {
   "cell_type": "code",
   "execution_count": 5,
   "id": "e59d8c96-0464-4cf7-93d1-715153500448",
   "metadata": {},
   "outputs": [],
   "source": [
    "rectangle = Rectangle(5,6)\n",
    "circle = Circle(3)"
   ]
  },
  {
   "cell_type": "code",
   "execution_count": 6,
   "id": "5febb076-6dc1-466b-8d83-3e589cc7de95",
   "metadata": {},
   "outputs": [
    {
     "name": "stdout",
     "output_type": "stream",
     "text": [
      "30\n"
     ]
    }
   ],
   "source": [
    "print(rectangle.area())"
   ]
  },
  {
   "cell_type": "code",
   "execution_count": 7,
   "id": "88ec1434-809f-4ee8-8460-e6adc50e085c",
   "metadata": {},
   "outputs": [
    {
     "name": "stdout",
     "output_type": "stream",
     "text": [
      "28.259999999999998\n"
     ]
    }
   ],
   "source": [
    "print(circle.area())"
   ]
  },
  {
   "cell_type": "code",
   "execution_count": null,
   "id": "f782a216-71be-4f02-86c8-cd43db61bf52",
   "metadata": {},
   "outputs": [],
   "source": []
  },
  {
   "cell_type": "markdown",
   "id": "73720334-d51b-4339-b841-e268097888c6",
   "metadata": {},
   "source": [
    "Q2. Differentiate between Abstraction and Encapsulation. Explain with an example."
   ]
  },
  {
   "cell_type": "code",
   "execution_count": 9,
   "id": "db3ac4db-0f3c-401b-a511-7a983c9ca1c3",
   "metadata": {},
   "outputs": [],
   "source": [
    "# Abstraction focuses on representing the essential features and behavior of an object while hiding unnecessary details.\n",
    "# It allows you to create abstract classes or interfaces that define a common structure and behavior for a group of related objects."
   ]
  },
  {
   "cell_type": "code",
   "execution_count": 10,
   "id": "f4e7e191-2065-494a-9692-fb73f1a81631",
   "metadata": {},
   "outputs": [],
   "source": [
    "# Encapsulation is the process of bundling data (attributes) and methods (functions) together into a single unit called a class.\n",
    "# It provides a way to hide the internal state of an object and restricts access to only the methods defined in the class."
   ]
  },
  {
   "cell_type": "code",
   "execution_count": 11,
   "id": "3c903716-fed3-45dc-9b91-cd97adcc0736",
   "metadata": {},
   "outputs": [],
   "source": [
    "class Car:\n",
    "    def __init__(self, make, model, year):\n",
    "        self.make = make\n",
    "        self.model = model\n",
    "        self.year = year\n",
    "        self.speed = 0\n",
    "\n",
    "    def accelerate(self):\n",
    "        self.speed += 10\n",
    "\n",
    "    def brake(self):\n",
    "        if self.speed >= 10:\n",
    "            self.speed -= 10\n",
    "\n",
    "    def get_speed(self):\n",
    "        return self.speed\n"
   ]
  },
  {
   "cell_type": "code",
   "execution_count": 15,
   "id": "f1ca1d86-55cd-489a-a36e-606c7a6b1106",
   "metadata": {},
   "outputs": [],
   "source": [
    "Aston_Martin = Car(7, \"D5\", 1965)"
   ]
  },
  {
   "cell_type": "code",
   "execution_count": 21,
   "id": "396a1175-c9a1-4ed2-8cbf-6423b468096a",
   "metadata": {},
   "outputs": [],
   "source": [
    "Aston_Martin.accelerate()"
   ]
  },
  {
   "cell_type": "code",
   "execution_count": 19,
   "id": "6636ac0f-6ea8-41fb-a807-f10ddebde665",
   "metadata": {},
   "outputs": [
    {
     "data": {
      "text/plain": [
       "7"
      ]
     },
     "execution_count": 19,
     "metadata": {},
     "output_type": "execute_result"
    }
   ],
   "source": [
    "Aston_Martin.make"
   ]
  },
  {
   "cell_type": "code",
   "execution_count": 20,
   "id": "4af20f83-f005-4f42-a4af-5332a82061d1",
   "metadata": {},
   "outputs": [
    {
     "data": {
      "text/plain": [
       "20"
      ]
     },
     "execution_count": 20,
     "metadata": {},
     "output_type": "execute_result"
    }
   ],
   "source": [
    "Aston_Martin.get_speed()"
   ]
  },
  {
   "cell_type": "code",
   "execution_count": null,
   "id": "4edd432a-9909-494d-bc2e-493adddacfce",
   "metadata": {},
   "outputs": [],
   "source": []
  },
  {
   "cell_type": "markdown",
   "id": "66e0dd75-73da-4343-b136-7ef03264c5df",
   "metadata": {},
   "source": [
    "Q3.What is abc module in python? Why is it used?"
   ]
  },
  {
   "cell_type": "code",
   "execution_count": null,
   "id": "f40085bd-3a4e-4c59-a11b-cd3f7f5d8a70",
   "metadata": {},
   "outputs": [],
   "source": [
    "# The abc module in Python stands for \"Abstract Base Classes.\" \n",
    "# It provides infrastructure for creating abstract base classes and enforcing certain behaviors in derived classes."
   ]
  },
  {
   "cell_type": "code",
   "execution_count": 23,
   "id": "a0c3b765-1e8f-4758-9174-d944670e1241",
   "metadata": {},
   "outputs": [],
   "source": [
    "# Here are some reasons why the abc module is used:\n",
    "\n",
    "# Abstraction: The abc module allows you to define abstract base classes,\n",
    "# which focus on defining the essential structure and behavior of a group of related classes while hiding implementation details.\n",
    "# This helps in achieving abstraction and provides a higher-level view of objects.\n",
    "\n",
    "# Interface Definition: ABCs serve as a way to define interfaces in Python.\n",
    "# By defining abstract methods within an ABC, you establish a contract that derived classes must follow by implementing those methods. \n",
    "# This promotes code consistency and helps in creating well-defined APIs.\n",
    "\n",
    "# Polymorphism: Using ABCs, you can create polymorphic behavior in your code.\n",
    "# Different derived classes can implement the same abstract methods, \n",
    "# allowing them to be used interchangeably wherever the abstract base class is expected. This enables you to write more flexible and reusable code.\n",
    "\n",
    "# Enforcing Structure: The abc module helps in enforcing a particular structure or set of methods in derived classes. \n",
    "# By defining abstract methods in an ABC, you ensure that derived classes must provide implementations for those methods. \n",
    "# If a derived class fails to implement any abstract method, an error will be raised.\n",
    "\n",
    "# Design Patterns: The abc module is often used in conjunction with design patterns like the Template Method pattern or the Strategy pattern. \n",
    "# Abstract base classes can define common methods or hooks that derived classes override to customize behavior,\n",
    "# promoting code modularity and extensibility.\n",
    "\n",
    "# Overall, the abc module is used to enforce structure, define interfaces, promote polymorphism, and enhance code organization in Python. \n",
    "# It helps in building modular and maintainable code by providing a way to define abstract base classes and enforce certain behaviors in derived classes.\n",
    "\n",
    "\n",
    "\n",
    "\n"
   ]
  },
  {
   "cell_type": "markdown",
   "id": "a952957a-8fb1-4809-bb06-ba1d25c393cb",
   "metadata": {},
   "source": [
    "Q4. How can we achieve data abstraction?"
   ]
  },
  {
   "cell_type": "code",
   "execution_count": 24,
   "id": "bfd03b65-291f-4bf1-b03e-3d1c34406669",
   "metadata": {},
   "outputs": [],
   "source": [
    "\n",
    "# Data abstraction in programming refers to the process of hiding internal data implementation details and \n",
    "# providing only essential information or interfaces to interact with the data.\n",
    "# It allows users to manipulate data without needing to understand or access its underlying implementation. \n",
    "# In Python, you can achieve data abstraction through the following techniques:\n",
    "\n",
    "# Encapsulation: Encapsulation is a fundamental concept in object-oriented programming (OOP) that bundles data and \n",
    "# related methods together within a class. It allows you to control access to the data by defining access modifiers (public, private, protected). \n",
    "# By making the internal data private and providing public methods to interact with it, you abstract away the implementation details and provide a clean interface for data manipulation.\n",
    "\n",
    "# Getters and Setters: Instead of directly accessing or modifying the internal data of an object, \n",
    "# you can use getter and setter methods to provide controlled access. Getter methods retrieve the value of a data attribute,\n",
    "# while setter methods set or modify the value. By defining appropriate getter and setter methods, you can control how the data is accessed and \n",
    "# ensure validation or additional logic if necessary.\n",
    "\n",
    "# Property Decorators: In Python, you can use the @property decorator to define properties, \n",
    "# which are special methods that allow you to access and modify class attributes as if they were normal attributes. By using properties, \n",
    "# you can abstract away the underlying implementation details of attribute access and provide computed or validated values.\n",
    "\n"
   ]
  },
  {
   "cell_type": "code",
   "execution_count": 34,
   "id": "e65370af-9588-49f0-bba0-0e74f24a323a",
   "metadata": {},
   "outputs": [],
   "source": [
    "class BankAccount:\n",
    "    def __init__(self, account_number, balance):\n",
    "        self._account_number = account_number\n",
    "        self._balance = balance\n",
    "\n",
    "    def get_account_number(self):\n",
    "        return self._account_number\n",
    "\n",
    "    def get_balance(self):\n",
    "        return self._balance\n",
    "\n",
    "    def deposit(self, amount):\n",
    "        self._balance += amount\n",
    "\n",
    "    def withdraw(self, amount):\n",
    "        if amount <= self._balance:\n",
    "            self._balance -= amount\n",
    "        else:\n",
    "            print(\"Insufficient balance\")\n",
    "\n"
   ]
  },
  {
   "cell_type": "code",
   "execution_count": 26,
   "id": "ece0f870-9bf8-4e92-8bd0-50e4eeac80e0",
   "metadata": {},
   "outputs": [],
   "source": [
    "account = BankAccount(\"123456789\", 1000)"
   ]
  },
  {
   "cell_type": "code",
   "execution_count": 35,
   "id": "860ff790-2abe-4ee3-9620-640ca65f9ced",
   "metadata": {},
   "outputs": [
    {
     "data": {
      "text/plain": [
       "'123456789'"
      ]
     },
     "execution_count": 35,
     "metadata": {},
     "output_type": "execute_result"
    }
   ],
   "source": [
    "account.get_account_number()"
   ]
  },
  {
   "cell_type": "code",
   "execution_count": 37,
   "id": "628887ff-b2a3-40a4-aacd-3e0e32c7dfae",
   "metadata": {},
   "outputs": [
    {
     "data": {
      "text/plain": [
       "2000"
      ]
     },
     "execution_count": 37,
     "metadata": {},
     "output_type": "execute_result"
    }
   ],
   "source": [
    "account.get_balance()"
   ]
  },
  {
   "cell_type": "code",
   "execution_count": 38,
   "id": "6eb804ff-dc04-43c9-ba95-1dbfbecef247",
   "metadata": {},
   "outputs": [],
   "source": [
    "account.deposit(500)"
   ]
  },
  {
   "cell_type": "code",
   "execution_count": 39,
   "id": "e3967d5b-3c33-40a3-a317-4ca7ab24f76d",
   "metadata": {},
   "outputs": [
    {
     "data": {
      "text/plain": [
       "2500"
      ]
     },
     "execution_count": 39,
     "metadata": {},
     "output_type": "execute_result"
    }
   ],
   "source": [
    "account.get_balance()"
   ]
  },
  {
   "cell_type": "code",
   "execution_count": 40,
   "id": "e4eb0bde-34ec-429f-bb44-e1409d9e657c",
   "metadata": {},
   "outputs": [
    {
     "name": "stdout",
     "output_type": "stream",
     "text": [
      "Insufficient balance\n"
     ]
    }
   ],
   "source": [
    "account.withdraw(5000)"
   ]
  },
  {
   "cell_type": "code",
   "execution_count": null,
   "id": "dd1c538a-e97c-4a02-b2f9-8ebf8a1ae6e9",
   "metadata": {},
   "outputs": [],
   "source": []
  },
  {
   "cell_type": "markdown",
   "id": "61e3f788-6d1d-4a16-aa76-86035266cdf8",
   "metadata": {},
   "source": [
    "Q5. Can we create an instance of an abstract class? Explain your answer."
   ]
  },
  {
   "cell_type": "code",
   "execution_count": 1,
   "id": "0fb34f9d-7a52-4df6-b007-09a5ae8a7145",
   "metadata": {},
   "outputs": [],
   "source": [
    "# No, we cannot create an instance of an abstract class directly.\n",
    "# An abstract class is a class that is declared with the intention of being subclassed,\n",
    "# meaning it provides a common interface and some default behavior that its subclasses can inherit and override."
   ]
  },
  {
   "cell_type": "code",
   "execution_count": null,
   "id": "36bbc9c3-0522-408f-90df-619e21170681",
   "metadata": {},
   "outputs": [],
   "source": [
    "# An abstract class typically contains one or more abstract methods, which are declared without an implementation. \n",
    "# These methods are meant to be overridden by the subclasses to provide their own specific implementation. Additionally, \n",
    "# an abstract class can also have non-abstract methods with a complete implementation.\n",
    "\n",
    "# The purpose of an abstract class is to serve as a blueprint for its subclasses, \n",
    "# defining a common set of methods that they must implement. Abstract classes are designed to be extended and \n",
    "# specialized by concrete subclasses.\n",
    "\n",
    "# Because abstract classes are incomplete by nature, \n",
    "# it doesn't make sense to create instances of them. An abstract class often represents a general concept or idea, \n",
    "# and it is the responsibility of the concrete subclasses to provide the specific details and implementation for that concept.\n",
    "\n",
    "# To make use of an abstract class, we need to create a subclass that extends the abstract class and provides implementations \n",
    "# for all the abstract methods. It is only through these concrete subclasses that we can create instances and work with the functionality \n",
    "# defined in the abstract class.\n",
    "\n",
    "# In summary, abstract classes cannot be instantiated directly, but they serve as a foundation for creating specialized subclasses \n",
    "# that can be instantiated."
   ]
  }
 ],
 "metadata": {
  "kernelspec": {
   "display_name": "Python 3 (ipykernel)",
   "language": "python",
   "name": "python3"
  },
  "language_info": {
   "codemirror_mode": {
    "name": "ipython",
    "version": 3
   },
   "file_extension": ".py",
   "mimetype": "text/x-python",
   "name": "python",
   "nbconvert_exporter": "python",
   "pygments_lexer": "ipython3",
   "version": "3.10.8"
  }
 },
 "nbformat": 4,
 "nbformat_minor": 5
}
