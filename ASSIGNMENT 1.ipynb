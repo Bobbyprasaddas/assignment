{
 "cells": [
  {
   "cell_type": "code",
   "execution_count": 1,
   "id": "c1bd0ca0-6408-4fbd-a97e-da1a27c09ca5",
   "metadata": {},
   "outputs": [],
   "source": [
    "# Q1. Create one variable containing following type of data:\n",
    "# (i) string\n",
    "# (ii) list\n",
    "# (iii) float\n",
    "# (iv) tuple"
   ]
  },
  {
   "cell_type": "code",
   "execution_count": 2,
   "id": "ca3366e1-ae17-4dee-86b7-043577d70d0a",
   "metadata": {},
   "outputs": [],
   "source": [
    "\n",
    "string_variable = \"Good job, Bobby\"\n",
    "list_variable = [1, 2, 3, \"Pintu\", 7.0, 7+5j]\n",
    "float_variable = 5.6\n",
    "tuple_variable = (1, 2, 3, \"Pintu\", 3.9)"
   ]
  },
  {
   "cell_type": "code",
   "execution_count": 3,
   "id": "24db78b9-86d8-4919-8fee-d969c387974e",
   "metadata": {},
   "outputs": [
    {
     "data": {
      "text/plain": [
       "'Good job, Bobby'"
      ]
     },
     "execution_count": 3,
     "metadata": {},
     "output_type": "execute_result"
    }
   ],
   "source": [
    "string_variable"
   ]
  },
  {
   "cell_type": "code",
   "execution_count": 4,
   "id": "2ca298fc-bbb2-4096-8f56-4baaf6adc3a7",
   "metadata": {},
   "outputs": [
    {
     "data": {
      "text/plain": [
       "[1, 2, 3, 'Pintu', 7.0, (7+5j)]"
      ]
     },
     "execution_count": 4,
     "metadata": {},
     "output_type": "execute_result"
    }
   ],
   "source": [
    "list_variable"
   ]
  },
  {
   "cell_type": "code",
   "execution_count": 5,
   "id": "08c9eaad-e246-4dd1-91e6-9da3690607dd",
   "metadata": {},
   "outputs": [
    {
     "data": {
      "text/plain": [
       "5.6"
      ]
     },
     "execution_count": 5,
     "metadata": {},
     "output_type": "execute_result"
    }
   ],
   "source": [
    "float_variable"
   ]
  },
  {
   "cell_type": "code",
   "execution_count": 6,
   "id": "41efb838-9d9c-4ca0-9312-ae7579efc716",
   "metadata": {},
   "outputs": [
    {
     "data": {
      "text/plain": [
       "(1, 2, 3, 'Pintu', 3.9)"
      ]
     },
     "execution_count": 6,
     "metadata": {},
     "output_type": "execute_result"
    }
   ],
   "source": [
    "tuple_variable"
   ]
  },
  {
   "cell_type": "code",
   "execution_count": null,
   "id": "bfd0e809-4e79-48af-ac0b-a35048c27e2c",
   "metadata": {},
   "outputs": [],
   "source": []
  },
  {
   "cell_type": "code",
   "execution_count": 7,
   "id": "5467fc21-d5ec-4ce5-8b9e-34ecf2bb2f76",
   "metadata": {},
   "outputs": [],
   "source": [
    "# Q2. Given are some following variables containing data:\n",
    "# (i) var1 = ‘ ‘\n",
    "# (ii) var2 = ‘[ DS , ML , Python]’\n",
    "# (iii) var3 = [ ‘DS’ , ’ML’ , ‘Python’ ]\n",
    "# (iv) var4 = 1.\n",
    "# What will be the data type of the above given variable."
   ]
  },
  {
   "cell_type": "code",
   "execution_count": 11,
   "id": "759c1542-13e5-4807-a020-f56a861cb034",
   "metadata": {},
   "outputs": [],
   "source": [
    "\n",
    " var1 = ' '\n",
    " var2 = '[ DS , ML , Python]'\n",
    " var3 = [ 'DS' , 'ML' , 'Python' ]\n",
    " var4 = 1."
   ]
  },
  {
   "cell_type": "code",
   "execution_count": 12,
   "id": "3ed2d495-35c4-4e74-a316-6c9b672e550c",
   "metadata": {},
   "outputs": [
    {
     "name": "stdout",
     "output_type": "stream",
     "text": [
      "<class 'str'>\n"
     ]
    }
   ],
   "source": [
    "print(type(var1))"
   ]
  },
  {
   "cell_type": "code",
   "execution_count": 13,
   "id": "452a6731-885c-4d64-95c4-3a283ad8fca0",
   "metadata": {},
   "outputs": [
    {
     "name": "stdout",
     "output_type": "stream",
     "text": [
      "<class 'str'>\n"
     ]
    }
   ],
   "source": [
    "print(type(var2))"
   ]
  },
  {
   "cell_type": "code",
   "execution_count": 14,
   "id": "26a90743-a0cb-4803-8ba1-eef4718d3700",
   "metadata": {},
   "outputs": [
    {
     "name": "stdout",
     "output_type": "stream",
     "text": [
      "<class 'list'>\n"
     ]
    }
   ],
   "source": [
    "print(type(var3))"
   ]
  },
  {
   "cell_type": "code",
   "execution_count": 15,
   "id": "8e134e0f-7a2e-429e-afc2-2f39d06b6ecd",
   "metadata": {},
   "outputs": [
    {
     "name": "stdout",
     "output_type": "stream",
     "text": [
      "<class 'float'>\n"
     ]
    }
   ],
   "source": [
    "print(type(var4))"
   ]
  },
  {
   "cell_type": "code",
   "execution_count": null,
   "id": "0a23dc48-798e-487f-9b37-b03803d95ef6",
   "metadata": {},
   "outputs": [],
   "source": []
  },
  {
   "cell_type": "code",
   "execution_count": 16,
   "id": "33ccbd13-5717-43ef-ad60-ab3e1bf7be3b",
   "metadata": {},
   "outputs": [],
   "source": [
    "# Q3. Explain the use of the following operators using an example in python\n",
    "# (i) /\n",
    "# (ii) %\n",
    "# (iii) //\n",
    "# (iv) **"
   ]
  },
  {
   "cell_type": "code",
   "execution_count": 17,
   "id": "9e958051-c2a5-4da8-beae-92cdf07cda2b",
   "metadata": {},
   "outputs": [
    {
     "name": "stdout",
     "output_type": "stream",
     "text": [
      "2.0\n",
      "0\n",
      "2\n",
      "216\n"
     ]
    }
   ],
   "source": [
    "# Division using /\n",
    "a = 6\n",
    "b = 3\n",
    "c = a / b\n",
    "print(c)\n",
    "\n",
    "# Modulo using %\n",
    "c = a % b\n",
    "print(c)\n",
    "# Floor division using //\n",
    "c = a // b\n",
    "print(c)    \n",
    "\n",
    "# Exponentiation using **\n",
    "c = a ** b\n",
    "print(c)   \n"
   ]
  },
  {
   "cell_type": "code",
   "execution_count": null,
   "id": "a6bdc656-d16b-442e-b6c2-f5d9b905faef",
   "metadata": {},
   "outputs": [],
   "source": []
  },
  {
   "cell_type": "code",
   "execution_count": 18,
   "id": "e06b5118-c1f9-4479-af80-64cd9547fc12",
   "metadata": {},
   "outputs": [],
   "source": [
    "# Q4. Create a list of length 10 of your choice containing multiple types of data. Using for loop print the\n",
    "# element and its data type."
   ]
  },
  {
   "cell_type": "code",
   "execution_count": 21,
   "id": "c221f339-7adf-492c-a845-7bbaab056230",
   "metadata": {},
   "outputs": [
    {
     "name": "stdout",
     "output_type": "stream",
     "text": [
      "5 <class 'int'>\n",
      "5.6 <class 'float'>\n",
      "(5+6j) <class 'complex'>\n",
      "True <class 'bool'>\n",
      "Pintu <class 'str'>\n",
      "[1, 2, 3] <class 'list'>\n",
      "{'name': 'Pintu', 'Age': 28} <class 'dict'>\n",
      "(5, 6) <class 'tuple'>\n",
      "900 <class 'str'>\n",
      "Make Odisha Great Again <class 'str'>\n"
     ]
    }
   ],
   "source": [
    "a = [5, 5.6, 5+6j, True, \"Pintu\", [1,2,3], {\"name\":\"Pintu\", \"Age\":28},(5,6),\"900\", \"Make Odisha Great Again\"]\n",
    "for i in a:\n",
    "    print(i, type(i))"
   ]
  },
  {
   "cell_type": "code",
   "execution_count": null,
   "id": "ac2fcb25-0d5d-4924-8a9e-69c4b5d15b56",
   "metadata": {},
   "outputs": [],
   "source": []
  },
  {
   "cell_type": "code",
   "execution_count": null,
   "id": "fc821868-d299-4819-b579-80beb0a6aa82",
   "metadata": {},
   "outputs": [],
   "source": [
    "# Q5. Using a while loop, verify if the number A is purely divisible by number B and if so then how many\n",
    "# times it can be divisible."
   ]
  },
  {
   "cell_type": "code",
   "execution_count": 5,
   "id": "b52fee33-2f46-4283-8e3e-f90701fb1cb8",
   "metadata": {},
   "outputs": [
    {
     "name": "stdin",
     "output_type": "stream",
     "text": [
      " 25\n",
      " 5\n"
     ]
    },
    {
     "name": "stdout",
     "output_type": "stream",
     "text": [
      "1.0 is divisible by 5 2 times\n"
     ]
    }
   ],
   "source": [
    "a = int(input())\n",
    "b = int(input())\n",
    "\n",
    "count = 0\n",
    "while a % b == 0:\n",
    "    count = count + 1\n",
    "    a /= b\n",
    "\n",
    "if count > 0:\n",
    "    print(f\"{a} is divisible by {b} {count} times\")\n",
    "else:\n",
    "    print(f\"{a} is not divisible by {b}\")\n"
   ]
  },
  {
   "cell_type": "code",
   "execution_count": null,
   "id": "a8da1b37-8c27-4017-bd50-dadf27d3096e",
   "metadata": {},
   "outputs": [],
   "source": []
  },
  {
   "cell_type": "code",
   "execution_count": null,
   "id": "74c211b2-21f6-467c-b472-b1599bc61e94",
   "metadata": {},
   "outputs": [],
   "source": []
  },
  {
   "cell_type": "code",
   "execution_count": null,
   "id": "30ef0d0b-0816-4f9a-b27b-96cde8b4255b",
   "metadata": {},
   "outputs": [],
   "source": [
    "# Q6. Create a list containing 25 int type data. Using for loop and if-else condition print if the element is\n",
    "# divisible by 3 or not."
   ]
  },
  {
   "cell_type": "code",
   "execution_count": 3,
   "id": "a87e1def-923c-44a7-9fcc-be326a31ba7d",
   "metadata": {},
   "outputs": [
    {
     "name": "stdout",
     "output_type": "stream",
     "text": [
      "NO, It is not divisible by 3\n",
      "NO, It is not divisible by 3\n",
      "Yes it is divisible by 3\n",
      "NO, It is not divisible by 3\n",
      "NO, It is not divisible by 3\n",
      "Yes it is divisible by 3\n",
      "NO, It is not divisible by 3\n",
      "NO, It is not divisible by 3\n",
      "Yes it is divisible by 3\n",
      "NO, It is not divisible by 3\n",
      "NO, It is not divisible by 3\n",
      "Yes it is divisible by 3\n",
      "NO, It is not divisible by 3\n",
      "NO, It is not divisible by 3\n",
      "Yes it is divisible by 3\n",
      "NO, It is not divisible by 3\n",
      "NO, It is not divisible by 3\n",
      "Yes it is divisible by 3\n",
      "NO, It is not divisible by 3\n",
      "NO, It is not divisible by 3\n",
      "Yes it is divisible by 3\n",
      "NO, It is not divisible by 3\n",
      "NO, It is not divisible by 3\n",
      "Yes it is divisible by 3\n",
      "NO, It is not divisible by 3\n"
     ]
    }
   ],
   "source": [
    "a = [1, 2, 3, 4, 5, 6, 7, 8, 9, 10, 11, 12, 13, 14, 15, 16, 17, 18, 19, 20, 21, 22, 23, 24, 25]\n",
    "\n",
    "for i in a:\n",
    "    if i % 3 == 0:\n",
    "        print(\"Yes it is divisible by 3\")\n",
    "    else:\n",
    "        print( \"NO, It is not divisible by 3\")\n"
   ]
  },
  {
   "cell_type": "code",
   "execution_count": null,
   "id": "ae56838d-1982-42eb-97e9-7a01d97eb14f",
   "metadata": {},
   "outputs": [],
   "source": []
  },
  {
   "cell_type": "code",
   "execution_count": null,
   "id": "28aab221-c9e0-4df0-9559-7b983d22d401",
   "metadata": {},
   "outputs": [],
   "source": [
    "# Q7. What do you understand about mutable and immutable data types? Give examples for both showing\n",
    "# this property."
   ]
  },
  {
   "cell_type": "code",
   "execution_count": null,
   "id": "bbc14a0a-4eef-473c-a7b9-dbf7494c452f",
   "metadata": {},
   "outputs": [],
   "source": [
    "# mutable data types are the ones that can be modified after they are created, while immutable data types cannot be changed once created.\n",
    "# Examples of mutable data types in Python include lists, dictionaries, and sets.On the other hand, examples of immutable data types include strings, tuples, and numbers. "
   ]
  },
  {
   "cell_type": "markdown",
   "id": "511432df-5b29-4fa5-a7f7-f16ecaa58a91",
   "metadata": {},
   "source": [
    "#mutable"
   ]
  },
  {
   "cell_type": "code",
   "execution_count": 6,
   "id": "8103d749-d2ac-43ab-93ad-d0fe31ebba72",
   "metadata": {},
   "outputs": [],
   "source": [
    "a = [1,2,3]"
   ]
  },
  {
   "cell_type": "code",
   "execution_count": 7,
   "id": "060e0593-4d51-46d0-ad17-be442f993bce",
   "metadata": {},
   "outputs": [],
   "source": [
    "a.append(4)"
   ]
  },
  {
   "cell_type": "code",
   "execution_count": 8,
   "id": "5463cc88-2390-44ce-a9b9-bae41d99a7ec",
   "metadata": {},
   "outputs": [
    {
     "data": {
      "text/plain": [
       "[1, 2, 3, 4]"
      ]
     },
     "execution_count": 8,
     "metadata": {},
     "output_type": "execute_result"
    }
   ],
   "source": [
    "a"
   ]
  },
  {
   "cell_type": "markdown",
   "id": "7db04dfb-4d1a-4c88-9330-c109916201c3",
   "metadata": {},
   "source": [
    "#immutable"
   ]
  },
  {
   "cell_type": "code",
   "execution_count": 9,
   "id": "4ecabd5d-fc71-4078-af61-60013ae741ab",
   "metadata": {},
   "outputs": [],
   "source": [
    "b =\"pintu\""
   ]
  },
  {
   "cell_type": "code",
   "execution_count": 10,
   "id": "4f8ec6da-6557-4d4f-9490-8e44a5eb56b9",
   "metadata": {},
   "outputs": [
    {
     "data": {
      "text/plain": [
       "'pintu'"
      ]
     },
     "execution_count": 10,
     "metadata": {},
     "output_type": "execute_result"
    }
   ],
   "source": [
    "b"
   ]
  },
  {
   "cell_type": "code",
   "execution_count": 11,
   "id": "c963a8d4-9736-42d9-ba7c-40e59402592c",
   "metadata": {},
   "outputs": [
    {
     "ename": "AttributeError",
     "evalue": "'str' object has no attribute 'append'",
     "output_type": "error",
     "traceback": [
      "\u001b[0;31m---------------------------------------------------------------------------\u001b[0m",
      "\u001b[0;31mAttributeError\u001b[0m                            Traceback (most recent call last)",
      "Cell \u001b[0;32mIn[11], line 1\u001b[0m\n\u001b[0;32m----> 1\u001b[0m \u001b[43mb\u001b[49m\u001b[38;5;241;43m.\u001b[39;49m\u001b[43mappend\u001b[49m(Y)\n",
      "\u001b[0;31mAttributeError\u001b[0m: 'str' object has no attribute 'append'"
     ]
    }
   ],
   "source": [
    "b.append(Y)"
   ]
  },
  {
   "cell_type": "code",
   "execution_count": 12,
   "id": "de934a2c-fe97-4cf6-b0b4-eb9e3636efd8",
   "metadata": {},
   "outputs": [],
   "source": [
    "#we have to do it by creating a new string"
   ]
  },
  {
   "cell_type": "code",
   "execution_count": 13,
   "id": "78bdf5d9-9318-4178-89cd-521e8231c3d0",
   "metadata": {},
   "outputs": [],
   "source": [
    "c = \"Pintu\""
   ]
  },
  {
   "cell_type": "code",
   "execution_count": 16,
   "id": "50074db3-ab6a-464b-8c92-4e4892a6b038",
   "metadata": {},
   "outputs": [
    {
     "ename": "AttributeError",
     "evalue": "'str' object has no attribute 'repalce'",
     "output_type": "error",
     "traceback": [
      "\u001b[0;31m---------------------------------------------------------------------------\u001b[0m",
      "\u001b[0;31mAttributeError\u001b[0m                            Traceback (most recent call last)",
      "Cell \u001b[0;32mIn[16], line 2\u001b[0m\n\u001b[1;32m      1\u001b[0m b \u001b[38;5;241m=\u001b[39m \u001b[38;5;124m\"\u001b[39m\u001b[38;5;124mPintu\u001b[39m\u001b[38;5;124m\"\u001b[39m\n\u001b[0;32m----> 2\u001b[0m b1 \u001b[38;5;241m=\u001b[39m \u001b[43mb\u001b[49m\u001b[38;5;241;43m.\u001b[39;49m\u001b[43mrepalce\u001b[49m(\u001b[38;5;124m\"\u001b[39m\u001b[38;5;124mu\u001b[39m\u001b[38;5;124m\"\u001b[39m,\u001b[38;5;124m\"\u001b[39m\u001b[38;5;124mo\u001b[39m\u001b[38;5;124m\"\u001b[39m)\n\u001b[1;32m      3\u001b[0m \u001b[38;5;28mprint\u001b[39m(b)\n\u001b[1;32m      4\u001b[0m \u001b[38;5;28mprint\u001b[39m(b1)\n",
      "\u001b[0;31mAttributeError\u001b[0m: 'str' object has no attribute 'repalce'"
     ]
    }
   ],
   "source": [
    "b = \"Pintu\"\n",
    "b1 = b.repalce(\"u\",\"o\")\n",
    "print(b)\n",
    "print(b1)"
   ]
  },
  {
   "cell_type": "code",
   "execution_count": 15,
   "id": "5d17b1b9-cfb9-44e7-b80e-9ed7f9c99781",
   "metadata": {},
   "outputs": [
    {
     "name": "stdout",
     "output_type": "stream",
     "text": [
      "hello\n",
      "hella\n"
     ]
    }
   ],
   "source": [
    "my_string = \"hello\"\n",
    "new_string = my_string.replace(\"o\", \"a\")\n",
    "print(my_string)   \n",
    "print(new_string)   \n"
   ]
  },
  {
   "cell_type": "code",
   "execution_count": null,
   "id": "02ed07f1-e2af-4872-b722-5a9fb5538f2e",
   "metadata": {},
   "outputs": [],
   "source": []
  }
 ],
 "metadata": {
  "kernelspec": {
   "display_name": "Python 3 (ipykernel)",
   "language": "python",
   "name": "python3"
  },
  "language_info": {
   "codemirror_mode": {
    "name": "ipython",
    "version": 3
   },
   "file_extension": ".py",
   "mimetype": "text/x-python",
   "name": "python",
   "nbconvert_exporter": "python",
   "pygments_lexer": "ipython3",
   "version": "3.10.8"
  }
 },
 "nbformat": 4,
 "nbformat_minor": 5
}
